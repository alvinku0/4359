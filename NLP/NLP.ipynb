{
 "cells": [
  {
   "cell_type": "markdown",
   "metadata": {
    "id": "768duY2PaNK5"
   },
   "source": [
    "### setup"
   ]
  },
  {
   "cell_type": "code",
   "execution_count": 3,
   "metadata": {
    "colab": {
     "base_uri": "https://localhost:8080/"
    },
    "executionInfo": {
     "elapsed": 11069,
     "status": "ok",
     "timestamp": 1729673785189,
     "user": {
      "displayName": "Alvin",
      "userId": "17372507612298864423"
     },
     "user_tz": -480
    },
    "id": "BG-u5ceYxqsP",
    "outputId": "09ee4586-0be7-4c1e-ee28-b9d05571fdfc"
   },
   "outputs": [],
   "source": [
    "import pandas as pd\n",
    "import numpy as np\n",
    "import matplotlib as plt\n",
    "import matplotlib.pyplot as plt\n",
    "import re\n",
    "import string\n",
    "\n",
    "import nltk\n",
    "from nltk import pos_tag\n",
    "from nltk.corpus import stopwords\n",
    "from nltk.corpus import wordnet\n",
    "from nltk.tokenize import TweetTokenizer\n",
    "from nltk.stem import WordNetLemmatizer\n",
    "\n",
    "from vaderSentiment.vaderSentiment import SentimentIntensityAnalyzer\n",
    "\n",
    "import swifter\n",
    "from tqdm import tqdm\n",
    "tqdm.pandas()\n",
    "\n",
    "# nltk.download('punkt')\n",
    "# nltk.download('wordnet')\n",
    "# nltk.download('stopwords')\n",
    "# nltk.download('omw-1.4')\n",
    "# nltk.download('averaged_perceptron_tagger')\n",
    "# nltk.download('averaged_perceptron_tagger_eng')"
   ]
  },
  {
   "cell_type": "code",
   "execution_count": 16,
   "metadata": {},
   "outputs": [],
   "source": [
    "path_to_folder = \"C:/Users/phku0/Quant_Project\""
   ]
  },
  {
   "cell_type": "markdown",
   "metadata": {
    "id": "vvnJOtdAaTTA"
   },
   "source": [
    "### 1. clean text"
   ]
  },
  {
   "cell_type": "code",
   "execution_count": 3,
   "metadata": {
    "executionInfo": {
     "elapsed": 50158,
     "status": "ok",
     "timestamp": 1729673835345,
     "user": {
      "displayName": "Alvin",
      "userId": "17372507612298864423"
     },
     "user_tz": -480
    },
    "id": "XE3kFdaPcdxI"
   },
   "outputs": [],
   "source": [
    "df = pd.read_parquet(path_to_folder+\"/data_raw/glassd_review_internal_data_2024-03-19.parquet\")"
   ]
  },
  {
   "cell_type": "code",
   "execution_count": 4,
   "metadata": {
    "colab": {
     "base_uri": "https://localhost:8080/",
     "height": 0,
     "referenced_widgets": [
      "776aaa304fae4dbd875595e107768983",
      "66f6e504e8ae49db86b6d39c2ac58c4c",
      "cc279739f1244d72b8c1e58523c2a73f",
      "f678894c581444769b2ac5d6057b68c4",
      "020e3881fcb445b9980e3a74520fd7e5",
      "7ca4211d369940168e2c83ac3c5828b7",
      "2435521f253b4337b83042c0f38db80e",
      "637a5f17a42a4c57a898894411a82653",
      "11a00adb4acd4663b0786b2bdbc45e45",
      "ede314afa0cd459cb8ea70e07f845702",
      "c5f82410e69d463fa5a28f4ecb913108"
     ]
    },
    "executionInfo": {
     "elapsed": 225234,
     "status": "ok",
     "timestamp": 1729674060577,
     "user": {
      "displayName": "Alvin",
      "userId": "17372507612298864423"
     },
     "user_tz": -480
    },
    "id": "X9Q3SRubzkle",
    "outputId": "1b51fcec-45a5-4091-f6f1-46e20910ed26"
   },
   "outputs": [
    {
     "data": {
      "application/vnd.jupyter.widget-view+json": {
       "model_id": "e60704abc7fd4ac09d80c6928fdc143c",
       "version_major": 2,
       "version_minor": 0
      },
      "text/plain": [
       "Pandas Apply:   0%|          | 0/12961872 [00:00<?, ?it/s]"
      ]
     },
     "metadata": {},
     "output_type": "display_data"
    }
   ],
   "source": [
    "# drop advice column (58% missing)\n",
    "df.drop(['updateDateTime', 'other_data', 'advice'], axis=1, inplace=True)\n",
    "\n",
    "df = df.dropna(subset=['summary'])\n",
    "df = df.fillna('')\n",
    "\n",
    "# Initialization\n",
    "tokenizer = TweetTokenizer(preserve_case=False, strip_handles=True, reduce_len=True) # suitable for informal text\n",
    "lemmatizer = WordNetLemmatizer()\n",
    "stop_words = set(stopwords.words('english'))\n",
    "punctuation_set = set(string.punctuation)\n",
    "\n",
    "# Precompile the regular expressions\n",
    "newline_re = re.compile(r'\\r?\\n+')\n",
    "quote_re = re.compile(r\"’\")\n",
    "dots_re = re.compile(r'\\.{2,}')\n",
    "backslash_re = re.compile(r'\\\\')\n",
    "whitespace_re = re.compile(r'\\s+')\n",
    "\n",
    "# Map POS tag for lemmatization\n",
    "def get_POS(word):\n",
    "  tag = pos_tag([word])[0][1][0].lower()\n",
    "  tag_dict = {'j': wordnet.ADJ, 'n': wordnet.NOUN, 'v': wordnet.VERB, 'r': wordnet.ADV}\n",
    "  return tag_dict.get(tag, wordnet.NOUN)\n",
    "\n",
    "def cleanText(text):\n",
    "  text = newline_re.sub('. ', text) # same as text = re.sub(r'\\r?\\n+', '. ', text) etc\n",
    "  text = quote_re.sub(\"'\", text)\n",
    "  text = dots_re.sub('.', text)\n",
    "  text = backslash_re.sub('', text)\n",
    "  text = whitespace_re.sub(' ', text)\n",
    "  text = text.strip().lower()\n",
    "  return text\n",
    "\n",
    "def tokenize(text):\n",
    "  tokens = tokenizer.tokenize(text)\n",
    "  tokens = [word for word in tokens if word not in stop_words and word not in punctuation_set and len(word) > 1]\n",
    "  tokens = [lemmatizer.lemmatize(word, get_POS(word)) for word in tokens]\n",
    "  return tuple(tokens)\n",
    "\n",
    "df[['summary', 'pros', 'cons']] = df[['summary', 'pros', 'cons']].swifter.applymap(cleanText)"
   ]
  },
  {
   "cell_type": "code",
   "execution_count": 5,
   "metadata": {
    "colab": {
     "base_uri": "https://localhost:8080/",
     "height": 0
    },
    "executionInfo": {
     "elapsed": 7,
     "status": "ok",
     "timestamp": 1729674060578,
     "user": {
      "displayName": "Alvin",
      "userId": "17372507612298864423"
     },
     "user_tz": -480
    },
    "id": "_1338SEb9yF9",
    "outputId": "8d67c5ae-053f-4ad5-e211-70064e8f0b19"
   },
   "outputs": [
    {
     "data": {
      "text/html": [
       "<div>\n",
       "<style scoped>\n",
       "    .dataframe tbody tr th:only-of-type {\n",
       "        vertical-align: middle;\n",
       "    }\n",
       "\n",
       "    .dataframe tbody tr th {\n",
       "        vertical-align: top;\n",
       "    }\n",
       "\n",
       "    .dataframe thead th {\n",
       "        text-align: right;\n",
       "    }\n",
       "</style>\n",
       "<table border=\"1\" class=\"dataframe\">\n",
       "  <thead>\n",
       "    <tr style=\"text-align: right;\">\n",
       "      <th></th>\n",
       "      <th>reviewId</th>\n",
       "      <th>summary</th>\n",
       "      <th>pros</th>\n",
       "      <th>cons</th>\n",
       "    </tr>\n",
       "  </thead>\n",
       "  <tbody>\n",
       "    <tr>\n",
       "      <th>0</th>\n",
       "      <td>49</td>\n",
       "      <td>a great internship experience.</td>\n",
       "      <td>all people are helpful. we create products tha...</td>\n",
       "      <td>no, i don't really think there's any downside.</td>\n",
       "    </tr>\n",
       "    <tr>\n",
       "      <th>1</th>\n",
       "      <td>59</td>\n",
       "      <td>microsoft - when it stopped treating all of it...</td>\n",
       "      <td>lots of smart folks doing a wide variety of th...</td>\n",
       "      <td>unless you are a partner the company treats yo...</td>\n",
       "    </tr>\n",
       "    <tr>\n",
       "      <th>2</th>\n",
       "      <td>77</td>\n",
       "      <td>good company to work for, but keep in mind tha...</td>\n",
       "      <td>the culture of the company is one of the best ...</td>\n",
       "      <td>apple is a very exclusive company to work for ...</td>\n",
       "    </tr>\n",
       "    <tr>\n",
       "      <th>3</th>\n",
       "      <td>81</td>\n",
       "      <td>apple is unlike any other retail organization.</td>\n",
       "      <td>apple is very serious about promoting from wit...</td>\n",
       "      <td>in the end it is still retail. so, there are o...</td>\n",
       "    </tr>\n",
       "    <tr>\n",
       "      <th>4</th>\n",
       "      <td>83</td>\n",
       "      <td>an inside bite into apple</td>\n",
       "      <td>apple is a great place to be updated with the ...</td>\n",
       "      <td>as employees we are constantly expected to add...</td>\n",
       "    </tr>\n",
       "  </tbody>\n",
       "</table>\n",
       "</div>"
      ],
      "text/plain": [
       "   reviewId                                            summary  \\\n",
       "0        49                     a great internship experience.   \n",
       "1        59  microsoft - when it stopped treating all of it...   \n",
       "2        77  good company to work for, but keep in mind tha...   \n",
       "3        81     apple is unlike any other retail organization.   \n",
       "4        83                          an inside bite into apple   \n",
       "\n",
       "                                                pros  \\\n",
       "0  all people are helpful. we create products tha...   \n",
       "1  lots of smart folks doing a wide variety of th...   \n",
       "2  the culture of the company is one of the best ...   \n",
       "3  apple is very serious about promoting from wit...   \n",
       "4  apple is a great place to be updated with the ...   \n",
       "\n",
       "                                                cons  \n",
       "0     no, i don't really think there's any downside.  \n",
       "1  unless you are a partner the company treats yo...  \n",
       "2  apple is a very exclusive company to work for ...  \n",
       "3  in the end it is still retail. so, there are o...  \n",
       "4  as employees we are constantly expected to add...  "
      ]
     },
     "execution_count": 5,
     "metadata": {},
     "output_type": "execute_result"
    }
   ],
   "source": [
    "df.head()"
   ]
  },
  {
   "cell_type": "code",
   "execution_count": 6,
   "metadata": {
    "executionInfo": {
     "elapsed": 13545,
     "status": "ok",
     "timestamp": 1729674074118,
     "user": {
      "displayName": "Alvin",
      "userId": "17372507612298864423"
     },
     "user_tz": -480
    },
    "id": "12LGJ9vP90uk"
   },
   "outputs": [],
   "source": [
    "df.to_parquet(path_to_folder+'/data_checkpoint/1.cleaned_text.parquet')"
   ]
  },
  {
   "cell_type": "markdown",
   "metadata": {
    "id": "zzasQsOTa9UC"
   },
   "source": [
    "### 2. tokenize & lemmatize"
   ]
  },
  {
   "cell_type": "code",
   "execution_count": 7,
   "metadata": {
    "executionInfo": {
     "elapsed": 18255,
     "status": "ok",
     "timestamp": 1729674092370,
     "user": {
      "displayName": "Alvin",
      "userId": "17372507612298864423"
     },
     "user_tz": -480
    },
    "id": "qfkj1p2Dclpl"
   },
   "outputs": [],
   "source": [
    "df = pd.read_parquet(path_to_folder+\"/data_checkpoint/1.cleaned_text.parquet\")"
   ]
  },
  {
   "cell_type": "code",
   "execution_count": 8,
   "metadata": {
    "colab": {
     "base_uri": "https://localhost:8080/",
     "height": 0,
     "referenced_widgets": [
      "70b73fce69b64c53b0d0cf3d69346e59",
      "ee31bcac57d74ca7aee96dc3dc5a3f3d",
      "080b9af5c07d4795a2b8386575579470",
      "f618b21c59824fbf89446f251907c03e",
      "ea458bf0adc24e998f70d71b74b4c4bf",
      "65599e5d2c2a411b842385479c039388",
      "1e460fe98ce34b54aeb83ce6da413e43",
      "94c3658849074edfb44002ef7b8cbbcd",
      "c1dc22a8fc834d93927c0ac6c6950696",
      "3302e7a20d0144ba9bde87d65f9fe6aa",
      "4335b43b173140a0b230fcd092fe420a"
     ]
    },
    "collapsed": true,
    "id": "46rhA1Q-a_ZX",
    "outputId": "889698f2-8f1e-4143-d79a-0d6a30840695"
   },
   "outputs": [
    {
     "data": {
      "application/vnd.jupyter.widget-view+json": {
       "model_id": "7e0925e7cffa458ca3dd313ac14b49c3",
       "version_major": 2,
       "version_minor": 0
      },
      "text/plain": [
       "Pandas Apply:   0%|          | 0/12961872 [00:00<?, ?it/s]"
      ]
     },
     "metadata": {},
     "output_type": "display_data"
    }
   ],
   "source": [
    "def tokenize(text):\n",
    "  tokens = tokenizer.tokenize(text)\n",
    "  tokens = [word for word in tokens if word not in stop_words and word not in punctuation_set and len(word) > 1]\n",
    "  tokens = [lemmatizer.lemmatize(word, get_POS(word)) for word in tokens]\n",
    "  return tuple(tokens)\n",
    "\n",
    "df[['summary_token', 'pros_token', 'cons_token']] = df[['summary', 'pros', 'cons']].swifter.applymap(tokenize)"
   ]
  },
  {
   "cell_type": "code",
   "execution_count": 9,
   "metadata": {
    "id": "J8MuqYfwbX4u"
   },
   "outputs": [
    {
     "data": {
      "text/html": [
       "<div>\n",
       "<style scoped>\n",
       "    .dataframe tbody tr th:only-of-type {\n",
       "        vertical-align: middle;\n",
       "    }\n",
       "\n",
       "    .dataframe tbody tr th {\n",
       "        vertical-align: top;\n",
       "    }\n",
       "\n",
       "    .dataframe thead th {\n",
       "        text-align: right;\n",
       "    }\n",
       "</style>\n",
       "<table border=\"1\" class=\"dataframe\">\n",
       "  <thead>\n",
       "    <tr style=\"text-align: right;\">\n",
       "      <th></th>\n",
       "      <th>reviewId</th>\n",
       "      <th>summary</th>\n",
       "      <th>pros</th>\n",
       "      <th>cons</th>\n",
       "      <th>summary_token</th>\n",
       "      <th>pros_token</th>\n",
       "      <th>cons_token</th>\n",
       "    </tr>\n",
       "  </thead>\n",
       "  <tbody>\n",
       "    <tr>\n",
       "      <th>0</th>\n",
       "      <td>49</td>\n",
       "      <td>a great internship experience.</td>\n",
       "      <td>all people are helpful. we create products tha...</td>\n",
       "      <td>no, i don't really think there's any downside.</td>\n",
       "      <td>(great, internship, experience)</td>\n",
       "      <td>(people, helpful, create, product, impact, wor...</td>\n",
       "      <td>(really, think, there's, downside)</td>\n",
       "    </tr>\n",
       "    <tr>\n",
       "      <th>1</th>\n",
       "      <td>59</td>\n",
       "      <td>microsoft - when it stopped treating all of it...</td>\n",
       "      <td>lots of smart folks doing a wide variety of th...</td>\n",
       "      <td>unless you are a partner the company treats yo...</td>\n",
       "      <td>(microsoft, stop, treat, people, important, he...</td>\n",
       "      <td>(lot, smart, folk, wide, variety, thing, good,...</td>\n",
       "      <td>(unless, partner, company, treat, like, commod...</td>\n",
       "    </tr>\n",
       "    <tr>\n",
       "      <th>2</th>\n",
       "      <td>77</td>\n",
       "      <td>good company to work for, but keep in mind tha...</td>\n",
       "      <td>the culture of the company is one of the best ...</td>\n",
       "      <td>apple is a very exclusive company to work for ...</td>\n",
       "      <td>(good, company, work, keep, mind, apple)</td>\n",
       "      <td>(culture, company, one, best, i've, ever, expe...</td>\n",
       "      <td>(apple, exclusive, company, work, know, pay, h...</td>\n",
       "    </tr>\n",
       "    <tr>\n",
       "      <th>3</th>\n",
       "      <td>81</td>\n",
       "      <td>apple is unlike any other retail organization.</td>\n",
       "      <td>apple is very serious about promoting from wit...</td>\n",
       "      <td>in the end it is still retail. so, there are o...</td>\n",
       "      <td>(apple, unlike, retail, organization)</td>\n",
       "      <td>(apple, serious, promote, within, able, help, ...</td>\n",
       "      <td>(end, still, retail, odd, hour, work, night, w...</td>\n",
       "    </tr>\n",
       "    <tr>\n",
       "      <th>4</th>\n",
       "      <td>83</td>\n",
       "      <td>an inside bite into apple</td>\n",
       "      <td>apple is a great place to be updated with the ...</td>\n",
       "      <td>as employees we are constantly expected to add...</td>\n",
       "      <td>(inside, bite, apple)</td>\n",
       "      <td>(apple, great, place, update, late, apple, tec...</td>\n",
       "      <td>(employee, constantly, expect, add, every, com...</td>\n",
       "    </tr>\n",
       "  </tbody>\n",
       "</table>\n",
       "</div>"
      ],
      "text/plain": [
       "   reviewId                                            summary  \\\n",
       "0        49                     a great internship experience.   \n",
       "1        59  microsoft - when it stopped treating all of it...   \n",
       "2        77  good company to work for, but keep in mind tha...   \n",
       "3        81     apple is unlike any other retail organization.   \n",
       "4        83                          an inside bite into apple   \n",
       "\n",
       "                                                pros  \\\n",
       "0  all people are helpful. we create products tha...   \n",
       "1  lots of smart folks doing a wide variety of th...   \n",
       "2  the culture of the company is one of the best ...   \n",
       "3  apple is very serious about promoting from wit...   \n",
       "4  apple is a great place to be updated with the ...   \n",
       "\n",
       "                                                cons  \\\n",
       "0     no, i don't really think there's any downside.   \n",
       "1  unless you are a partner the company treats yo...   \n",
       "2  apple is a very exclusive company to work for ...   \n",
       "3  in the end it is still retail. so, there are o...   \n",
       "4  as employees we are constantly expected to add...   \n",
       "\n",
       "                                       summary_token  \\\n",
       "0                    (great, internship, experience)   \n",
       "1  (microsoft, stop, treat, people, important, he...   \n",
       "2           (good, company, work, keep, mind, apple)   \n",
       "3              (apple, unlike, retail, organization)   \n",
       "4                              (inside, bite, apple)   \n",
       "\n",
       "                                          pros_token  \\\n",
       "0  (people, helpful, create, product, impact, wor...   \n",
       "1  (lot, smart, folk, wide, variety, thing, good,...   \n",
       "2  (culture, company, one, best, i've, ever, expe...   \n",
       "3  (apple, serious, promote, within, able, help, ...   \n",
       "4  (apple, great, place, update, late, apple, tec...   \n",
       "\n",
       "                                          cons_token  \n",
       "0                 (really, think, there's, downside)  \n",
       "1  (unless, partner, company, treat, like, commod...  \n",
       "2  (apple, exclusive, company, work, know, pay, h...  \n",
       "3  (end, still, retail, odd, hour, work, night, w...  \n",
       "4  (employee, constantly, expect, add, every, com...  "
      ]
     },
     "execution_count": 9,
     "metadata": {},
     "output_type": "execute_result"
    }
   ],
   "source": [
    "df.head()"
   ]
  },
  {
   "cell_type": "code",
   "execution_count": 10,
   "metadata": {
    "id": "VlcUlSZbbZo5"
   },
   "outputs": [],
   "source": [
    "df.to_parquet(path_to_folder+'/data_checkpoint/2.tokenised_text.parquet')"
   ]
  },
  {
   "cell_type": "markdown",
   "metadata": {
    "id": "26h4UaZEb6L7"
   },
   "source": [
    "### 3. dictionary matching"
   ]
  },
  {
   "cell_type": "code",
   "execution_count": 3,
   "metadata": {
    "id": "Vag-EaDjcZb5"
   },
   "outputs": [],
   "source": [
    "df = pd.read_parquet(path_to_folder+\"/data_checkpoint/2.tokenised_text.parquet\")"
   ]
  },
  {
   "cell_type": "code",
   "execution_count": 4,
   "metadata": {
    "id": "OPra4VGOb8Ze"
   },
   "outputs": [],
   "source": [
    "####### list of words for potential matches (generated by GPT-4o & eyeball checking for manual adjustment) ############\n",
    "\n",
    "innovative_similar_words = {\n",
    "  \"innovation\", \"cutting-edge\", \"innovative\", \"invention\", \"inventive\", \n",
    "  \"creativity\", \"creative\", \"ideation\", \"imagination\", \"imaginative\",  \n",
    "  \"novelty\", \"novel\", \"novelities\", \"visionary\", \"entrepreneurial\", \n",
    "  \"entrepreneurship\", \"tech\", \"technology\", \"technologies\", \"digital\",\n",
    "  \"modernization\", \"modernized\", \"digitalization\", \"modern\", \"futuristic\", \n",
    "  \"advanced\", \"futurism\", \"futuristic\", \"pioneering\", \"disruption\", \n",
    "  \"transformation\", \"transformative\", \"discoverable\", \"pioneering\",\n",
    "  \"disruptive\", \"revolution\", \"revolutionary\", \"breakthrough\", \n",
    "  \"groundbreaking\", \"trailblazing\", \"innovations\", \"state-of-the-art\", \n",
    "  \"forward-thinking\", \"change\", \"future\", \"agile\", \"startup\",\n",
    "  \"creation\", \"creations\", \"prototype\", \"design\", \"iteration\",\n",
    "  \"renovation\", \"renovative\", \"evolution\", \"evolutionary\",  \"prototype\"\n",
    "  \"new\", \"ingenuity\", \"scalable\"\n",
    "}\n",
    "\n",
    "integrity_similar_words = {\n",
    "  \"integrity\", \"integral\", \"honesty\", \"honest\", \"uprightness\", \"upright\", \n",
    "  \"truth\", \"truthfulness\", \"truthful\", \"wholeness\", \"compliance\", \"legally\"\n",
    "  \"accountability\", \"accountable\", \"responsibility\", \"responsibilities\", \n",
    "  \"responsible\", \"diligence\", \"reliability\", \"reliable\", \"conduct\", \"law\"\n",
    "  \"governance\", \"fiduciary\", \"authenticity\", \"authentic\", \"sincerity\", \"sincere\",\n",
    "  \"morality\", \"moral\", \"ethics\", \"ethical\", \"ethically\", \"ethos\", \"ethicality\", \n",
    "  \"incorruptibility\", \"rectitude\", \"rectitudinous\", \"probity\", \"principle\", \n",
    "  \"principled\", \"righteousness\", \"righteous\", \"decency\", \"virtue\", \"assurance\",\n",
    "  \"virtuous\", \"candor\", \"candid\", \"fairness\", \"justice\",\n",
    "  \"trustworthy\", \"transparency\", \"transparent\", \"truth\", \"veracity\", \"legal\"\n",
    "  \"trustworthiness\", \"govern\", \"conduct\", \"diligent\", \"govern\", \"control\",\n",
    "  \"correct\", \"lawful\", \"right\", \"licit\", \"legitimate\", \"permission\",\n",
    "  \"permissible\", \"valid\", \"permitted\", \"allow\", \"allowed\", \"legit\",\n",
    "  \"illegal\", \"criminal\", \"terrorist\", \"unlawful\", \"hack\", \"security\"\n",
    "}\n",
    "\n",
    "quality_similar_words = {\n",
    "  \"quality\", \"qualitative\", \"excellence\", \"excellent\", \"superiority\", \"superior\",\n",
    "  \"caliber\", \"high-caliber\", \"standard\", \"standardized\", \"value\", \"valuable\",\n",
    "  \"merit\", \"meritorious\", \"distinction\", \"distinctive\", \"grade\", \"graded\", \"worth\",\n",
    "  \"worthy\", \"character\", \"characteristic\", \"virtue\", \"virtuous\", \"status\",\n",
    "  \"prestigious\", \"class\", \"classy\", \"eminence\", \"eminent\", \"perfection\", \"perfect\",\n",
    "  \"integrity\", \"integral\", \"reliability\", \"reliable\", \"premium\", \"benchmark\",\n",
    "  \"high-quality\", \"first-class\", \"top-notch\", \"superlative\", \"outstanding\",\n",
    "  \"world-class\", \"best-in-class\", \"flawless\", \"unmatched\", \"optimal\", \"finest\",\n",
    "  \"satisfaction\", \"satisfy\", \"exceptional\", \"product\",\n",
    "  \"service\", \"kpi\", \"meticulous\",\n",
    "  \"best\", \"expectations\", \"high-end\", \"refined\", \"durable\", \"decent\", \"superb\", \n",
    "  \"top\", \"best\"\n",
    "}\n",
    "\n",
    "respect_similar_words = {\n",
    "  \"respect\", \"respectful\", \"respecting\", \"respected\", \"esteem\", \"esteemed\",\n",
    "  \"regard\", \"regarded\", \"reverence\", \"revered\", \"reverential\", \"honor\",\n",
    "  \"honorable\", \"honored\", \"admiration\", \"admirable\", \"admired\", \"appreciation\",\n",
    "  \"appreciative\", \"appreciated\", \"deference\", \"deferential\", \"veneration\",\n",
    "  \"venerated\", \"venerable\", \"dignity\", \"dignified\", \"courtesy\", \"courteous\",\n",
    "  \"politeness\", \"polite\", \"consideration\", \"considerate\", \"regardful\",\n",
    "  \"civility\", \"gracious\", \"veneration\", \"courteously\", \"admire\", \"disabled\"\n",
    "  \"tolerance\", \"conflict\", \"inclusion\", \"recognition\", \"respectability\",\n",
    "  \"diversity\", \"equity\", \"dei\", \"empathy\", \"respectable\", \"trust\", \"diverse\"\n",
    "  \"professional\", \"discrimination\", \"lesbian\", \"gay\", \"bisexual\", \"queer\",\n",
    "  \"friendly\", \"thoughtful\", \"open\"\n",
    "}\n",
    "\n",
    "teamwork_similar_words = {\n",
    "  \"teamwork\", \"team\", \"collaboration\", \"collaborative\", \"engagement\", \"engage\",\n",
    "  \"collaborating\", \"collaborated\", \"cooperation\", \"cooperative\", \"cooperating\",\n",
    "  \"cooperated\", \"coordination\", \"coordinate\", \"communication\", \"helpful\", \"help\",\n",
    "  \"coordinate\", \"coordinating\", \"synergy\", \"synergistic\", \"aligned\", \"interaction\",\n",
    "  \"unity\", \"unified\", \"collective\", \"collectively\", \"solidarity\", \"people\",\n",
    "  \"camaraderie\", \"support\", \"supportive\", \"coworkers\", \"contribution\", \"shared\",\n",
    "  \"responsibility\", \"partnership\", \"group\", \"assist\", \"mutual\", \"jointly\", \"joint\"\n",
    "  \"collaborator\", \"interdependence\"\n",
    "  \"cohesive\", \"peer\", \"leadership\", \"cohesion\", \"discuss\", \"discussion\", \"interact\",\n",
    "}\n",
    "\n",
    "# lemmatize the word list\n",
    "def list_lemmatizer(word_list):\n",
    "  lemmatizer = WordNetLemmatizer()\n",
    "  return {lemmatizer.lemmatize(word) for word in word_list}\n",
    "\n",
    "innovative_similar_words = list_lemmatizer(innovative_similar_words)\n",
    "integrity_similar_words = list_lemmatizer(integrity_similar_words)\n",
    "quality_similar_words = list_lemmatizer(quality_similar_words)\n",
    "respect_similar_words = list_lemmatizer(respect_similar_words)\n",
    "teamwork_similar_words = list_lemmatizer(teamwork_similar_words)"
   ]
  },
  {
   "cell_type": "code",
   "execution_count": 5,
   "metadata": {},
   "outputs": [
    {
     "data": {
      "text/html": [
       "<div>\n",
       "<style scoped>\n",
       "    .dataframe tbody tr th:only-of-type {\n",
       "        vertical-align: middle;\n",
       "    }\n",
       "\n",
       "    .dataframe tbody tr th {\n",
       "        vertical-align: top;\n",
       "    }\n",
       "\n",
       "    .dataframe thead th {\n",
       "        text-align: right;\n",
       "    }\n",
       "</style>\n",
       "<table border=\"1\" class=\"dataframe\">\n",
       "  <thead>\n",
       "    <tr style=\"text-align: right;\">\n",
       "      <th></th>\n",
       "      <th>reviewId</th>\n",
       "      <th>summary</th>\n",
       "      <th>pros</th>\n",
       "      <th>cons</th>\n",
       "      <th>summary_token</th>\n",
       "      <th>pros_token</th>\n",
       "      <th>cons_token</th>\n",
       "    </tr>\n",
       "  </thead>\n",
       "  <tbody>\n",
       "    <tr>\n",
       "      <th>0</th>\n",
       "      <td>49</td>\n",
       "      <td>a great internship experience.</td>\n",
       "      <td>all people are helpful. we create products tha...</td>\n",
       "      <td>no, i don't really think there's any downside.</td>\n",
       "      <td>[great, internship, experience]</td>\n",
       "      <td>[people, helpful, create, product, impact, wor...</td>\n",
       "      <td>[really, think, there's, downside]</td>\n",
       "    </tr>\n",
       "    <tr>\n",
       "      <th>1</th>\n",
       "      <td>59</td>\n",
       "      <td>microsoft - when it stopped treating all of it...</td>\n",
       "      <td>lots of smart folks doing a wide variety of th...</td>\n",
       "      <td>unless you are a partner the company treats yo...</td>\n",
       "      <td>[microsoft, stop, treat, people, important, he...</td>\n",
       "      <td>[lot, smart, folk, wide, variety, thing, good,...</td>\n",
       "      <td>[unless, partner, company, treat, like, commod...</td>\n",
       "    </tr>\n",
       "  </tbody>\n",
       "</table>\n",
       "</div>"
      ],
      "text/plain": [
       "   reviewId                                            summary  \\\n",
       "0        49                     a great internship experience.   \n",
       "1        59  microsoft - when it stopped treating all of it...   \n",
       "\n",
       "                                                pros  \\\n",
       "0  all people are helpful. we create products tha...   \n",
       "1  lots of smart folks doing a wide variety of th...   \n",
       "\n",
       "                                                cons  \\\n",
       "0     no, i don't really think there's any downside.   \n",
       "1  unless you are a partner the company treats yo...   \n",
       "\n",
       "                                       summary_token  \\\n",
       "0                    [great, internship, experience]   \n",
       "1  [microsoft, stop, treat, people, important, he...   \n",
       "\n",
       "                                          pros_token  \\\n",
       "0  [people, helpful, create, product, impact, wor...   \n",
       "1  [lot, smart, folk, wide, variety, thing, good,...   \n",
       "\n",
       "                                          cons_token  \n",
       "0                 [really, think, there's, downside]  \n",
       "1  [unless, partner, company, treat, like, commod...  "
      ]
     },
     "execution_count": 5,
     "metadata": {},
     "output_type": "execute_result"
    }
   ],
   "source": [
    "df.head(2)"
   ]
  },
  {
   "cell_type": "code",
   "execution_count": 6,
   "metadata": {
    "id": "3fbcp2wdcGko"
   },
   "outputs": [],
   "source": [
    "# function for finding potential matches\n",
    "def check_matches(tokens, word_set):\n",
    "  return any(token in word_set for token in tokens)\n",
    "\n",
    "df['summary_innovative'] = df['summary_token'].apply(lambda tokens: check_matches(tokens, innovative_similar_words))\n",
    "df['summary_integrity'] = df['summary_token'].apply(lambda tokens: check_matches(tokens, integrity_similar_words))\n",
    "df['summary_quality'] = df['summary_token'].apply(lambda tokens: check_matches(tokens, quality_similar_words))\n",
    "df['summary_respect'] = df['summary_token'].apply(lambda tokens: check_matches(tokens, respect_similar_words))\n",
    "df['summary_teamwork'] = df['summary_token'].apply(lambda tokens: check_matches(tokens, teamwork_similar_words))\n",
    "\n",
    "df['pros_innovative'] = df['pros_token'].apply(lambda tokens: check_matches(tokens, innovative_similar_words))\n",
    "df['pros_integrity'] = df['pros_token'].apply(lambda tokens: check_matches(tokens, integrity_similar_words))\n",
    "df['pros_quality'] = df['pros_token'].apply(lambda tokens: check_matches(tokens, quality_similar_words))\n",
    "df['pros_respect'] = df['pros_token'].apply(lambda tokens: check_matches(tokens, respect_similar_words))\n",
    "df['pros_teamwork'] = df['pros_token'].apply(lambda tokens: check_matches(tokens, teamwork_similar_words))\n",
    "\n",
    "df['cons_innovative'] = df['cons_token'].apply(lambda tokens: check_matches(tokens, innovative_similar_words))\n",
    "df['cons_integrity'] = df['cons_token'].apply(lambda tokens: check_matches(tokens, integrity_similar_words))\n",
    "df['cons_quality'] = df['cons_token'].apply(lambda tokens: check_matches(tokens, quality_similar_words))\n",
    "df['cons_respect'] = df['cons_token'].apply(lambda tokens: check_matches(tokens, respect_similar_words))\n",
    "df['cons_teamwork'] = df['cons_token'].apply(lambda tokens: check_matches(tokens, teamwork_similar_words))"
   ]
  },
  {
   "cell_type": "code",
   "execution_count": 7,
   "metadata": {},
   "outputs": [
    {
     "data": {
      "image/png": "[encoded data removed]",
      "text/plain": [
       "<Figure size 1000x600 with 1 Axes>"
      ]
     },
     "metadata": {},
     "output_type": "display_data"
    }
   ],
   "source": [
    "row_num = len(df)\n",
    "\n",
    "summary_cols = ['summary_innovative', 'summary_integrity', 'summary_quality', 'summary_respect', 'summary_teamwork']\n",
    "pros_cols = ['pros_innovative', 'pros_integrity', 'pros_quality', 'pros_respect', 'pros_teamwork']\n",
    "cons_cols = ['cons_innovative', 'cons_integrity', 'cons_quality', 'cons_respect', 'cons_teamwork']\n",
    "\n",
    "proportions_summary = [df[col].sum() / row_num * 100 for col in summary_cols]\n",
    "proportions_pros = [df[col].sum() / row_num * 100 for col in pros_cols]\n",
    "proportions_cons = [df[col].sum() / row_num * 100 for col in cons_cols]\n",
    "\n",
    "categories = ['Innovative', 'Integrity', 'Quality', 'Respect', 'Teamwork']\n",
    "\n",
    "x = np.arange(len(categories))\n",
    "bar_width = 0.2\n",
    "\n",
    "plt.figure(figsize=(10, 6))\n",
    "plt.bar(x - bar_width, proportions_summary, width=bar_width, label='Summary', color='skyblue')\n",
    "plt.bar(x, proportions_pros, width=bar_width, label='Pros', color='lightgreen')\n",
    "plt.bar(x + bar_width, proportions_cons, width=bar_width, label='Cons', color='salmon')\n",
    "\n",
    "plt.xlabel('Categories')\n",
    "plt.ylabel('Percentage of Matches')\n",
    "plt.title('Proportion of Matches Across Categories')\n",
    "\n",
    "plt.xticks(x, categories)\n",
    "plt.legend()\n",
    "plt.tight_layout()\n",
    "plt.show()"
   ]
  },
  {
   "cell_type": "code",
   "execution_count": 8,
   "metadata": {
    "id": "WDgdS2fldXT_"
   },
   "outputs": [
    {
     "data": {
      "text/html": [
       "<div>\n",
       "<style scoped>\n",
       "    .dataframe tbody tr th:only-of-type {\n",
       "        vertical-align: middle;\n",
       "    }\n",
       "\n",
       "    .dataframe tbody tr th {\n",
       "        vertical-align: top;\n",
       "    }\n",
       "\n",
       "    .dataframe thead th {\n",
       "        text-align: right;\n",
       "    }\n",
       "</style>\n",
       "<table border=\"1\" class=\"dataframe\">\n",
       "  <thead>\n",
       "    <tr style=\"text-align: right;\">\n",
       "      <th></th>\n",
       "      <th>reviewId</th>\n",
       "      <th>summary</th>\n",
       "      <th>pros</th>\n",
       "      <th>cons</th>\n",
       "      <th>summary_token</th>\n",
       "      <th>pros_token</th>\n",
       "      <th>cons_token</th>\n",
       "      <th>summary_innovative</th>\n",
       "      <th>summary_integrity</th>\n",
       "      <th>summary_quality</th>\n",
       "      <th>...</th>\n",
       "      <th>pros_innovative</th>\n",
       "      <th>pros_integrity</th>\n",
       "      <th>pros_quality</th>\n",
       "      <th>pros_respect</th>\n",
       "      <th>pros_teamwork</th>\n",
       "      <th>cons_innovative</th>\n",
       "      <th>cons_integrity</th>\n",
       "      <th>cons_quality</th>\n",
       "      <th>cons_respect</th>\n",
       "      <th>cons_teamwork</th>\n",
       "    </tr>\n",
       "  </thead>\n",
       "  <tbody>\n",
       "    <tr>\n",
       "      <th>0</th>\n",
       "      <td>49</td>\n",
       "      <td>a great internship experience.</td>\n",
       "      <td>all people are helpful. we create products tha...</td>\n",
       "      <td>no, i don't really think there's any downside.</td>\n",
       "      <td>[great, internship, experience]</td>\n",
       "      <td>[people, helpful, create, product, impact, wor...</td>\n",
       "      <td>[really, think, there's, downside]</td>\n",
       "      <td>False</td>\n",
       "      <td>False</td>\n",
       "      <td>False</td>\n",
       "      <td>...</td>\n",
       "      <td>False</td>\n",
       "      <td>False</td>\n",
       "      <td>True</td>\n",
       "      <td>False</td>\n",
       "      <td>True</td>\n",
       "      <td>False</td>\n",
       "      <td>False</td>\n",
       "      <td>False</td>\n",
       "      <td>False</td>\n",
       "      <td>False</td>\n",
       "    </tr>\n",
       "    <tr>\n",
       "      <th>1</th>\n",
       "      <td>59</td>\n",
       "      <td>microsoft - when it stopped treating all of it...</td>\n",
       "      <td>lots of smart folks doing a wide variety of th...</td>\n",
       "      <td>unless you are a partner the company treats yo...</td>\n",
       "      <td>[microsoft, stop, treat, people, important, he...</td>\n",
       "      <td>[lot, smart, folk, wide, variety, thing, good,...</td>\n",
       "      <td>[unless, partner, company, treat, like, commod...</td>\n",
       "      <td>False</td>\n",
       "      <td>False</td>\n",
       "      <td>False</td>\n",
       "      <td>...</td>\n",
       "      <td>False</td>\n",
       "      <td>False</td>\n",
       "      <td>True</td>\n",
       "      <td>False</td>\n",
       "      <td>True</td>\n",
       "      <td>False</td>\n",
       "      <td>False</td>\n",
       "      <td>False</td>\n",
       "      <td>False</td>\n",
       "      <td>False</td>\n",
       "    </tr>\n",
       "    <tr>\n",
       "      <th>2</th>\n",
       "      <td>77</td>\n",
       "      <td>good company to work for, but keep in mind tha...</td>\n",
       "      <td>the culture of the company is one of the best ...</td>\n",
       "      <td>apple is a very exclusive company to work for ...</td>\n",
       "      <td>[good, company, work, keep, mind, apple]</td>\n",
       "      <td>[culture, company, one, best, i've, ever, expe...</td>\n",
       "      <td>[apple, exclusive, company, work, know, pay, h...</td>\n",
       "      <td>False</td>\n",
       "      <td>False</td>\n",
       "      <td>False</td>\n",
       "      <td>...</td>\n",
       "      <td>False</td>\n",
       "      <td>False</td>\n",
       "      <td>True</td>\n",
       "      <td>False</td>\n",
       "      <td>False</td>\n",
       "      <td>False</td>\n",
       "      <td>False</td>\n",
       "      <td>True</td>\n",
       "      <td>False</td>\n",
       "      <td>False</td>\n",
       "    </tr>\n",
       "    <tr>\n",
       "      <th>3</th>\n",
       "      <td>81</td>\n",
       "      <td>apple is unlike any other retail organization.</td>\n",
       "      <td>apple is very serious about promoting from wit...</td>\n",
       "      <td>in the end it is still retail. so, there are o...</td>\n",
       "      <td>[apple, unlike, retail, organization]</td>\n",
       "      <td>[apple, serious, promote, within, able, help, ...</td>\n",
       "      <td>[end, still, retail, odd, hour, work, night, w...</td>\n",
       "      <td>False</td>\n",
       "      <td>False</td>\n",
       "      <td>False</td>\n",
       "      <td>...</td>\n",
       "      <td>False</td>\n",
       "      <td>False</td>\n",
       "      <td>False</td>\n",
       "      <td>False</td>\n",
       "      <td>True</td>\n",
       "      <td>False</td>\n",
       "      <td>False</td>\n",
       "      <td>False</td>\n",
       "      <td>False</td>\n",
       "      <td>False</td>\n",
       "    </tr>\n",
       "    <tr>\n",
       "      <th>4</th>\n",
       "      <td>83</td>\n",
       "      <td>an inside bite into apple</td>\n",
       "      <td>apple is a great place to be updated with the ...</td>\n",
       "      <td>as employees we are constantly expected to add...</td>\n",
       "      <td>[inside, bite, apple]</td>\n",
       "      <td>[apple, great, place, update, late, apple, tec...</td>\n",
       "      <td>[employee, constantly, expect, add, every, com...</td>\n",
       "      <td>False</td>\n",
       "      <td>False</td>\n",
       "      <td>False</td>\n",
       "      <td>...</td>\n",
       "      <td>True</td>\n",
       "      <td>True</td>\n",
       "      <td>True</td>\n",
       "      <td>False</td>\n",
       "      <td>False</td>\n",
       "      <td>False</td>\n",
       "      <td>False</td>\n",
       "      <td>True</td>\n",
       "      <td>False</td>\n",
       "      <td>True</td>\n",
       "    </tr>\n",
       "  </tbody>\n",
       "</table>\n",
       "<p>5 rows × 22 columns</p>\n",
       "</div>"
      ],
      "text/plain": [
       "   reviewId                                            summary  \\\n",
       "0        49                     a great internship experience.   \n",
       "1        59  microsoft - when it stopped treating all of it...   \n",
       "2        77  good company to work for, but keep in mind tha...   \n",
       "3        81     apple is unlike any other retail organization.   \n",
       "4        83                          an inside bite into apple   \n",
       "\n",
       "                                                pros  \\\n",
       "0  all people are helpful. we create products tha...   \n",
       "1  lots of smart folks doing a wide variety of th...   \n",
       "2  the culture of the company is one of the best ...   \n",
       "3  apple is very serious about promoting from wit...   \n",
       "4  apple is a great place to be updated with the ...   \n",
       "\n",
       "                                                cons  \\\n",
       "0     no, i don't really think there's any downside.   \n",
       "1  unless you are a partner the company treats yo...   \n",
       "2  apple is a very exclusive company to work for ...   \n",
       "3  in the end it is still retail. so, there are o...   \n",
       "4  as employees we are constantly expected to add...   \n",
       "\n",
       "                                       summary_token  \\\n",
       "0                    [great, internship, experience]   \n",
       "1  [microsoft, stop, treat, people, important, he...   \n",
       "2           [good, company, work, keep, mind, apple]   \n",
       "3              [apple, unlike, retail, organization]   \n",
       "4                              [inside, bite, apple]   \n",
       "\n",
       "                                          pros_token  \\\n",
       "0  [people, helpful, create, product, impact, wor...   \n",
       "1  [lot, smart, folk, wide, variety, thing, good,...   \n",
       "2  [culture, company, one, best, i've, ever, expe...   \n",
       "3  [apple, serious, promote, within, able, help, ...   \n",
       "4  [apple, great, place, update, late, apple, tec...   \n",
       "\n",
       "                                          cons_token  summary_innovative  \\\n",
       "0                 [really, think, there's, downside]               False   \n",
       "1  [unless, partner, company, treat, like, commod...               False   \n",
       "2  [apple, exclusive, company, work, know, pay, h...               False   \n",
       "3  [end, still, retail, odd, hour, work, night, w...               False   \n",
       "4  [employee, constantly, expect, add, every, com...               False   \n",
       "\n",
       "   summary_integrity  summary_quality  ...  pros_innovative  pros_integrity  \\\n",
       "0              False            False  ...            False           False   \n",
       "1              False            False  ...            False           False   \n",
       "2              False            False  ...            False           False   \n",
       "3              False            False  ...            False           False   \n",
       "4              False            False  ...             True            True   \n",
       "\n",
       "   pros_quality  pros_respect  pros_teamwork  cons_innovative  cons_integrity  \\\n",
       "0          True         False           True            False           False   \n",
       "1          True         False           True            False           False   \n",
       "2          True         False          False            False           False   \n",
       "3         False         False           True            False           False   \n",
       "4          True         False          False            False           False   \n",
       "\n",
       "   cons_quality  cons_respect  cons_teamwork  \n",
       "0         False         False          False  \n",
       "1         False         False          False  \n",
       "2          True         False          False  \n",
       "3         False         False          False  \n",
       "4          True         False           True  \n",
       "\n",
       "[5 rows x 22 columns]"
      ]
     },
     "execution_count": 8,
     "metadata": {},
     "output_type": "execute_result"
    }
   ],
   "source": [
    "df.head()"
   ]
  },
  {
   "cell_type": "code",
   "execution_count": 9,
   "metadata": {
    "id": "GU1p4eUsdWn0"
   },
   "outputs": [],
   "source": [
    "df.to_parquet(path_to_folder+'/data_checkpoint/3.matching.parquet')"
   ]
  },
  {
   "cell_type": "markdown",
   "metadata": {},
   "source": [
    "### 4. calculate scores using matching rules\n",
    "- version 1 scores\n",
    "- ready to use for alpha generation"
   ]
  },
  {
   "cell_type": "code",
   "execution_count": 10,
   "metadata": {},
   "outputs": [],
   "source": [
    "df = pd.read_parquet(path_to_folder+'/data_checkpoint/3.matching.parquet')"
   ]
  },
  {
   "cell_type": "code",
   "execution_count": 11,
   "metadata": {
    "id": "GbfPgBQ3cOFh"
   },
   "outputs": [],
   "source": [
    "# logic:\n",
    "def calculate_score(pros_value, cons_value):\n",
    "  if pros_value == True and cons_value == False:\n",
    "    return 1\n",
    "  elif pros_value == False and cons_value == False:\n",
    "    return 0\n",
    "  elif pros_value == True and cons_value == True:\n",
    "    return 0\n",
    "  elif pros_value == False and cons_value == True:\n",
    "    return -1\n",
    "\n",
    "df['innovative_score'] = np.where((df['pros_innovative'] == True) & (df['cons_innovative'] == False), 1,\n",
    "                          np.where((df['pros_innovative'] == False) & (df['cons_innovative'] == True), -1, 0))\n",
    "\n",
    "df['integrity_score'] = np.where((df['pros_integrity'] == True) & (df['cons_integrity'] == False), 1,\n",
    "                          np.where((df['pros_integrity'] == False) & (df['cons_integrity'] == True), -1, 0))\n",
    "\n",
    "df['quality_score'] = np.where((df['pros_quality'] == True) & (df['cons_quality'] == False), 1,\n",
    "                        np.where((df['pros_quality'] == False) & (df['cons_quality'] == True), -1, 0))\n",
    "\n",
    "df['respect_score'] = np.where((df['pros_respect'] == True) & (df['cons_respect'] == False), 1,\n",
    "                        np.where((df['pros_respect'] == False) & (df['cons_respect'] == True), -1, 0))\n",
    "\n",
    "df['teamwork_score'] = np.where((df['pros_teamwork'] == True) & (df['cons_teamwork'] == False), 1,\n",
    "                         np.where((df['pros_teamwork'] == False) & (df['cons_teamwork'] == True), -1, 0))"
   ]
  },
  {
   "cell_type": "code",
   "execution_count": 12,
   "metadata": {
    "id": "ucaoBt12dFV-"
   },
   "outputs": [
    {
     "data": {
      "text/html": [
       "<div>\n",
       "<style scoped>\n",
       "    .dataframe tbody tr th:only-of-type {\n",
       "        vertical-align: middle;\n",
       "    }\n",
       "\n",
       "    .dataframe tbody tr th {\n",
       "        vertical-align: top;\n",
       "    }\n",
       "\n",
       "    .dataframe thead th {\n",
       "        text-align: right;\n",
       "    }\n",
       "</style>\n",
       "<table border=\"1\" class=\"dataframe\">\n",
       "  <thead>\n",
       "    <tr style=\"text-align: right;\">\n",
       "      <th></th>\n",
       "      <th>reviewId</th>\n",
       "      <th>innovative_score</th>\n",
       "      <th>integrity_score</th>\n",
       "      <th>quality_score</th>\n",
       "      <th>respect_score</th>\n",
       "      <th>teamwork_score</th>\n",
       "    </tr>\n",
       "  </thead>\n",
       "  <tbody>\n",
       "    <tr>\n",
       "      <th>0</th>\n",
       "      <td>49</td>\n",
       "      <td>0</td>\n",
       "      <td>0</td>\n",
       "      <td>1</td>\n",
       "      <td>0</td>\n",
       "      <td>1</td>\n",
       "    </tr>\n",
       "    <tr>\n",
       "      <th>1</th>\n",
       "      <td>59</td>\n",
       "      <td>0</td>\n",
       "      <td>0</td>\n",
       "      <td>1</td>\n",
       "      <td>0</td>\n",
       "      <td>1</td>\n",
       "    </tr>\n",
       "    <tr>\n",
       "      <th>2</th>\n",
       "      <td>77</td>\n",
       "      <td>0</td>\n",
       "      <td>0</td>\n",
       "      <td>0</td>\n",
       "      <td>0</td>\n",
       "      <td>0</td>\n",
       "    </tr>\n",
       "    <tr>\n",
       "      <th>3</th>\n",
       "      <td>81</td>\n",
       "      <td>0</td>\n",
       "      <td>0</td>\n",
       "      <td>0</td>\n",
       "      <td>0</td>\n",
       "      <td>1</td>\n",
       "    </tr>\n",
       "    <tr>\n",
       "      <th>4</th>\n",
       "      <td>83</td>\n",
       "      <td>1</td>\n",
       "      <td>1</td>\n",
       "      <td>0</td>\n",
       "      <td>0</td>\n",
       "      <td>-1</td>\n",
       "    </tr>\n",
       "  </tbody>\n",
       "</table>\n",
       "</div>"
      ],
      "text/plain": [
       "   reviewId  innovative_score  integrity_score  quality_score  respect_score  \\\n",
       "0        49                 0                0              1              0   \n",
       "1        59                 0                0              1              0   \n",
       "2        77                 0                0              0              0   \n",
       "3        81                 0                0              0              0   \n",
       "4        83                 1                1              0              0   \n",
       "\n",
       "   teamwork_score  \n",
       "0               1  \n",
       "1               1  \n",
       "2               0  \n",
       "3               1  \n",
       "4              -1  "
      ]
     },
     "execution_count": 12,
     "metadata": {},
     "output_type": "execute_result"
    }
   ],
   "source": [
    "df_matching_score = df[['reviewId', 'innovative_score', 'integrity_score', 'quality_score', 'respect_score', 'teamwork_score']]\n",
    "df_matching_score.head()"
   ]
  },
  {
   "cell_type": "code",
   "execution_count": 13,
   "metadata": {
    "id": "HRX9sPpCdP50"
   },
   "outputs": [],
   "source": [
    "df_matching_score.to_parquet(path_to_folder+'/data_checkpoint/4.matching_rule_to_scores.parquet')"
   ]
  },
  {
   "cell_type": "code",
   "execution_count": 14,
   "metadata": {
    "id": "-X6aCUSLeFRY"
   },
   "outputs": [
    {
     "data": {
      "image/png": "[encoded data removed]",
      "text/plain": [
       "<Figure size 1600x300 with 5 Axes>"
      ]
     },
     "metadata": {},
     "output_type": "display_data"
    }
   ],
   "source": [
    "columns = ['innovative_score', 'integrity_score', 'quality_score', 'respect_score', 'teamwork_score']\n",
    "\n",
    "fig, axes = plt.subplots(nrows=1, ncols=5, figsize=(16, 3))\n",
    "\n",
    "for ax, col in zip(axes, columns):\n",
    "  df[col].value_counts().sort_index().plot(kind='bar', ax=ax, color=['red', 'gray', 'green'])\n",
    "  \n",
    "  ax.set_title(f\"Value Counts for '{col}'\")\n",
    "  ax.set_ylabel(\"Count\")\n",
    "  ax.set_xlabel(\"Score\")\n",
    "  \n",
    "  ax.set_xticklabels(ax.get_xticklabels(), rotation=0)\n",
    "\n",
    "plt.tight_layout()\n",
    "plt.show()"
   ]
  },
  {
   "cell_type": "markdown",
   "metadata": {},
   "source": [
    "### 5. use matching result to preprocess for LLM"
   ]
  },
  {
   "cell_type": "code",
   "execution_count": 3,
   "metadata": {},
   "outputs": [
    {
     "data": {
      "text/plain": [
       "(4320624, 22)"
      ]
     },
     "execution_count": 3,
     "metadata": {},
     "output_type": "execute_result"
    }
   ],
   "source": [
    "df = pd.read_parquet(path_to_folder+'/data_checkpoint/3.matching.parquet')\n",
    "df.shape"
   ]
  },
  {
   "cell_type": "code",
   "execution_count": 4,
   "metadata": {},
   "outputs": [
    {
     "name": "stdout",
     "output_type": "stream",
     "text": [
      "dropped: (211, 9)\n"
     ]
    },
    {
     "data": {
      "text/html": [
       "<div>\n",
       "<style scoped>\n",
       "    .dataframe tbody tr th:only-of-type {\n",
       "        vertical-align: middle;\n",
       "    }\n",
       "\n",
       "    .dataframe tbody tr th {\n",
       "        vertical-align: top;\n",
       "    }\n",
       "\n",
       "    .dataframe thead th {\n",
       "        text-align: right;\n",
       "    }\n",
       "</style>\n",
       "<table border=\"1\" class=\"dataframe\">\n",
       "  <thead>\n",
       "    <tr style=\"text-align: right;\">\n",
       "      <th></th>\n",
       "      <th>reviewId</th>\n",
       "      <th>summary</th>\n",
       "      <th>pros</th>\n",
       "      <th>cons</th>\n",
       "      <th>innovative</th>\n",
       "      <th>integrity</th>\n",
       "      <th>quality</th>\n",
       "      <th>respect</th>\n",
       "      <th>teamwork</th>\n",
       "    </tr>\n",
       "  </thead>\n",
       "  <tbody>\n",
       "    <tr>\n",
       "      <th>4424</th>\n",
       "      <td>30639</td>\n",
       "      <td>kenworth</td>\n",
       "      <td>location . . . .</td>\n",
       "      <td>pay . . . .</td>\n",
       "      <td>False</td>\n",
       "      <td>False</td>\n",
       "      <td>False</td>\n",
       "      <td>False</td>\n",
       "      <td>False</td>\n",
       "    </tr>\n",
       "    <tr>\n",
       "      <th>195646</th>\n",
       "      <td>2269058</td>\n",
       "      <td>apple</td>\n",
       "      <td>fun to be at apple</td>\n",
       "      <td>have to put in time</td>\n",
       "      <td>False</td>\n",
       "      <td>False</td>\n",
       "      <td>False</td>\n",
       "      <td>False</td>\n",
       "      <td>False</td>\n",
       "    </tr>\n",
       "    <tr>\n",
       "      <th>458067</th>\n",
       "      <td>5532404</td>\n",
       "      <td>good place to work</td>\n",
       "      <td>good work, , ,</td>\n",
       "      <td>nothing, , , , , ,</td>\n",
       "      <td>False</td>\n",
       "      <td>False</td>\n",
       "      <td>False</td>\n",
       "      <td>False</td>\n",
       "      <td>False</td>\n",
       "    </tr>\n",
       "    <tr>\n",
       "      <th>474284</th>\n",
       "      <td>5717805</td>\n",
       "      <td>awesome</td>\n",
       "      <td>good company . . .</td>\n",
       "      <td>no concers . . .</td>\n",
       "      <td>False</td>\n",
       "      <td>False</td>\n",
       "      <td>False</td>\n",
       "      <td>False</td>\n",
       "      <td>False</td>\n",
       "    </tr>\n",
       "    <tr>\n",
       "      <th>491337</th>\n",
       "      <td>5914082</td>\n",
       "      <td>fraud dept</td>\n",
       "      <td>worked 4 days a wk</td>\n",
       "      <td>pay is too low</td>\n",
       "      <td>False</td>\n",
       "      <td>False</td>\n",
       "      <td>False</td>\n",
       "      <td>False</td>\n",
       "      <td>False</td>\n",
       "    </tr>\n",
       "  </tbody>\n",
       "</table>\n",
       "</div>"
      ],
      "text/plain": [
       "        reviewId             summary                pros                 cons  \\\n",
       "4424       30639            kenworth    location . . . .          pay . . . .   \n",
       "195646   2269058               apple  fun to be at apple  have to put in time   \n",
       "458067   5532404  good place to work      good work, , ,   nothing, , , , , ,   \n",
       "474284   5717805             awesome  good company . . .     no concers . . .   \n",
       "491337   5914082          fraud dept  worked 4 days a wk       pay is too low   \n",
       "\n",
       "        innovative  integrity  quality  respect  teamwork  \n",
       "4424         False      False    False    False     False  \n",
       "195646       False      False    False    False     False  \n",
       "458067       False      False    False    False     False  \n",
       "474284       False      False    False    False     False  \n",
       "491337       False      False    False    False     False  "
      ]
     },
     "execution_count": 4,
     "metadata": {},
     "output_type": "execute_result"
    }
   ],
   "source": [
    "df = df.drop(['summary_token', 'pros_token', 'cons_token'], axis=1)\n",
    "\n",
    "# return True if match in any col\n",
    "df['innovative'] = df['summary_innovative'] | df['pros_innovative'] | df['cons_innovative']\n",
    "df['integrity'] = df['summary_integrity'] | df['pros_integrity'] | df['cons_integrity']\n",
    "df['quality'] = df['summary_quality'] | df['pros_quality'] | df['cons_quality']\n",
    "df['respect'] = df['summary_respect'] | df['pros_respect'] | df['cons_respect']\n",
    "df['teamwork'] = df['summary_teamwork'] | df['pros_teamwork'] | df['cons_teamwork']\n",
    "\n",
    "# drop rows\n",
    "df = df[['reviewId', 'summary', 'pros', 'cons', 'innovative', 'integrity', 'quality', 'respect', 'teamwork']]\n",
    "\n",
    "# remove reviews with insufficient words\n",
    "threshhold = 20\n",
    "df_filter = df[~((df['summary'].str.len() < threshhold) & (df['cons'].str.len() < threshhold) & (df['pros'].str.len() < threshhold))]\n",
    "\n",
    "# show removed rows\n",
    "tmp = df[((df['summary'].str.len() < threshhold) & (df['cons'].str.len() < threshhold) & (df['pros'].str.len() < threshhold))]\n",
    "print(\"dropped:\", tmp.shape)\n",
    "tmp.head()"
   ]
  },
  {
   "cell_type": "code",
   "execution_count": 5,
   "metadata": {},
   "outputs": [
    {
     "name": "stdout",
     "output_type": "stream",
     "text": [
      "(4320365, 9)\n"
     ]
    },
    {
     "data": {
      "text/html": [
       "<div>\n",
       "<style scoped>\n",
       "    .dataframe tbody tr th:only-of-type {\n",
       "        vertical-align: middle;\n",
       "    }\n",
       "\n",
       "    .dataframe tbody tr th {\n",
       "        vertical-align: top;\n",
       "    }\n",
       "\n",
       "    .dataframe thead th {\n",
       "        text-align: right;\n",
       "    }\n",
       "</style>\n",
       "<table border=\"1\" class=\"dataframe\">\n",
       "  <thead>\n",
       "    <tr style=\"text-align: right;\">\n",
       "      <th></th>\n",
       "      <th>reviewId</th>\n",
       "      <th>summary</th>\n",
       "      <th>pros</th>\n",
       "      <th>cons</th>\n",
       "      <th>innovative</th>\n",
       "      <th>integrity</th>\n",
       "      <th>quality</th>\n",
       "      <th>respect</th>\n",
       "      <th>teamwork</th>\n",
       "    </tr>\n",
       "  </thead>\n",
       "  <tbody>\n",
       "    <tr>\n",
       "      <th>0</th>\n",
       "      <td>49</td>\n",
       "      <td>a great internship experience.</td>\n",
       "      <td>all people are helpful. we create products tha...</td>\n",
       "      <td>no, i don't really think there's any downside.</td>\n",
       "      <td>False</td>\n",
       "      <td>False</td>\n",
       "      <td>True</td>\n",
       "      <td>False</td>\n",
       "      <td>True</td>\n",
       "    </tr>\n",
       "    <tr>\n",
       "      <th>1</th>\n",
       "      <td>59</td>\n",
       "      <td>microsoft - when it stopped treating all of it...</td>\n",
       "      <td>lots of smart folks doing a wide variety of th...</td>\n",
       "      <td>unless you are a partner the company treats yo...</td>\n",
       "      <td>False</td>\n",
       "      <td>False</td>\n",
       "      <td>True</td>\n",
       "      <td>False</td>\n",
       "      <td>True</td>\n",
       "    </tr>\n",
       "    <tr>\n",
       "      <th>2</th>\n",
       "      <td>77</td>\n",
       "      <td>good company to work for, but keep in mind tha...</td>\n",
       "      <td>the culture of the company is one of the best ...</td>\n",
       "      <td>apple is a very exclusive company to work for ...</td>\n",
       "      <td>False</td>\n",
       "      <td>False</td>\n",
       "      <td>True</td>\n",
       "      <td>False</td>\n",
       "      <td>False</td>\n",
       "    </tr>\n",
       "  </tbody>\n",
       "</table>\n",
       "</div>"
      ],
      "text/plain": [
       "   reviewId                                            summary  \\\n",
       "0        49                     a great internship experience.   \n",
       "1        59  microsoft - when it stopped treating all of it...   \n",
       "2        77  good company to work for, but keep in mind tha...   \n",
       "\n",
       "                                                pros  \\\n",
       "0  all people are helpful. we create products tha...   \n",
       "1  lots of smart folks doing a wide variety of th...   \n",
       "2  the culture of the company is one of the best ...   \n",
       "\n",
       "                                                cons  innovative  integrity  \\\n",
       "0     no, i don't really think there's any downside.       False      False   \n",
       "1  unless you are a partner the company treats yo...       False      False   \n",
       "2  apple is a very exclusive company to work for ...       False      False   \n",
       "\n",
       "   quality  respect  teamwork  \n",
       "0     True    False      True  \n",
       "1     True    False      True  \n",
       "2     True    False     False  "
      ]
     },
     "execution_count": 5,
     "metadata": {},
     "output_type": "execute_result"
    }
   ],
   "source": [
    "# remove reviews with insufficient words\n",
    "df_filter = df_filter[ (df_filter['summary'].str.len() + df_filter['pros'].str.len() + df_filter['cons'].str.len()) > 40 ]\n",
    "\n",
    "print(df_filter.shape)\n",
    "df_filter.head(3)"
   ]
  },
  {
   "cell_type": "code",
   "execution_count": 6,
   "metadata": {},
   "outputs": [],
   "source": [
    "df_innovative = df_filter[df_filter['innovative']==True]\n",
    "df_integrity = df_filter[df_filter['integrity']==True]\n",
    "df_quality = df_filter[df_filter['quality']==True]\n",
    "df_respect = df_filter[df_filter['respect']==True]\n",
    "df_teamwork = df_filter[df_filter['teamwork']==True]"
   ]
  },
  {
   "cell_type": "code",
   "execution_count": 7,
   "metadata": {},
   "outputs": [],
   "source": [
    "cols_to_remove = ['innovative', 'integrity', 'quality', 'respect', 'teamwork']\n",
    "\n",
    "df_innovative = df_innovative.drop(cols_to_remove, axis=1)\n",
    "df_integrity = df_integrity.drop(cols_to_remove, axis=1)\n",
    "df_quality = df_quality.drop(cols_to_remove, axis=1)\n",
    "df_respect = df_respect.drop(cols_to_remove, axis=1)\n",
    "df_teamwork = df_teamwork.drop(cols_to_remove, axis=1)"
   ]
  },
  {
   "cell_type": "code",
   "execution_count": 8,
   "metadata": {},
   "outputs": [],
   "source": [
    "# sort for LLM: similar tensor length -> increase speed\n",
    "\n",
    "sorting_cols = ['summary', 'pros', 'cons']\n",
    "\n",
    "df_innovative = df_innovative.sort_values(\n",
    "  by = sorting_cols,\n",
    "  key = lambda col: col.apply(lambda row: sum(len(str(x)) for x in row)),\n",
    "  ascending=False\n",
    ").reset_index(drop=True)\n",
    "\n",
    "df_integrity = df_integrity.sort_values(\n",
    "  by = sorting_cols,\n",
    "  key = lambda col: col.apply(lambda row: sum(len(str(x)) for x in row)),\n",
    "  ascending=False\n",
    ").reset_index(drop=True)\n",
    "\n",
    "df_quality = df_quality.sort_values(\n",
    "  by = sorting_cols,\n",
    "  key = lambda col: col.apply(lambda row: sum(len(str(x)) for x in row)),\n",
    "  ascending=False\n",
    ").reset_index(drop=True)\n",
    "\n",
    "df_respect = df_respect.sort_values(\n",
    "  by = sorting_cols,\n",
    "  key = lambda col: col.apply(lambda row: sum(len(str(x)) for x in row)),\n",
    "  ascending=False\n",
    ").reset_index(drop=True)\n",
    "\n",
    "df_teamwork = df_teamwork.sort_values(\n",
    "  by = sorting_cols,\n",
    "  key = lambda col: col.apply(lambda row: sum(len(str(x)) for x in row)),\n",
    "  ascending=False\n",
    ").reset_index(drop=True)"
   ]
  },
  {
   "cell_type": "code",
   "execution_count": 9,
   "metadata": {},
   "outputs": [
    {
     "name": "stdout",
     "output_type": "stream",
     "text": [
      "(593715, 4)\n",
      "(406675, 4)\n",
      "(1217294, 4)\n",
      "(486899, 4)\n",
      "(1829790, 4)\n"
     ]
    }
   ],
   "source": [
    "print(df_innovative.shape)\n",
    "print(df_integrity.shape)\n",
    "print(df_quality.shape)\n",
    "print(df_respect.shape)\n",
    "print(df_teamwork.shape)"
   ]
  },
  {
   "cell_type": "code",
   "execution_count": 10,
   "metadata": {},
   "outputs": [],
   "source": [
    "df_innovative_batch1 = df_innovative.iloc[0:200000]\n",
    "df_innovative_batch2 = df_innovative.iloc[200000:400000]\n",
    "df_innovative_batch3 = df_innovative.iloc[400000:-1]\n",
    "\n",
    "df_innovative_batch1.to_parquet(path_to_folder+'/preprocess_LLM/innovative_batch1.parquet')\n",
    "df_innovative_batch2.to_parquet(path_to_folder+'/preprocess_LLM/innovative_batch2.parquet')\n",
    "df_innovative_batch3.to_parquet(path_to_folder+'/preprocess_LLM/innovative_batch3.parquet')"
   ]
  },
  {
   "cell_type": "code",
   "execution_count": 11,
   "metadata": {},
   "outputs": [],
   "source": [
    "df_integrity_batch1 = df_integrity.iloc[0:140000]\n",
    "df_integrity_batch2 = df_integrity.iloc[140000:280000]\n",
    "df_integrity_batch3 = df_integrity.iloc[280000:-1]\n",
    "\n",
    "df_integrity_batch1.to_parquet(path_to_folder+'/preprocess_LLM/integrity_batch1.parquet')\n",
    "df_integrity_batch2.to_parquet(path_to_folder+'/preprocess_LLM/integrity_batch2.parquet')\n",
    "df_integrity_batch3.to_parquet(path_to_folder+'/preprocess_LLM/integrity_batch3.parquet')"
   ]
  },
  {
   "cell_type": "code",
   "execution_count": 12,
   "metadata": {},
   "outputs": [],
   "source": [
    "df_quality_batch1 = df_quality.iloc[0:400000]\n",
    "df_quality_batch2 = df_quality.iloc[400000:800000]\n",
    "df_quality_batch3 = df_quality.iloc[800000:-1]\n",
    "\n",
    "df_quality_batch1.to_parquet(path_to_folder+'/preprocess_LLM/quality_batch1.parquet')\n",
    "df_quality_batch2.to_parquet(path_to_folder+'/preprocess_LLM/quality_batch2.parquet')\n",
    "df_quality_batch3.to_parquet(path_to_folder+'/preprocess_LLM/quality_batch3.parquet')"
   ]
  },
  {
   "cell_type": "code",
   "execution_count": 13,
   "metadata": {},
   "outputs": [],
   "source": [
    "df_respect_batch1 = df_respect.iloc[0:160000]\n",
    "df_respect_batch2 = df_respect.iloc[160000:320000]\n",
    "df_respect_batch3 = df_respect.iloc[320000:-1]\n",
    "\n",
    "df_respect_batch1.to_parquet(path_to_folder+'/preprocess_LLM/respect_batch1.parquet')\n",
    "df_respect_batch2.to_parquet(path_to_folder+'/preprocess_LLM/respect_batch2.parquet')\n",
    "df_respect_batch3.to_parquet(path_to_folder+'/preprocess_LLM/respect_batch3.parquet')"
   ]
  },
  {
   "cell_type": "code",
   "execution_count": 14,
   "metadata": {},
   "outputs": [],
   "source": [
    "df_teamwork_batch1 = df_teamwork.iloc[0:300000]\n",
    "df_teamwork_batch2 = df_teamwork.iloc[300000:600000]\n",
    "df_teamwork_batch3 = df_teamwork.iloc[600000:900000]\n",
    "df_teamwork_batch4 = df_teamwork.iloc[900000:1200000]\n",
    "df_teamwork_batch5 = df_teamwork.iloc[1200000:1500000]\n",
    "df_teamwork_batch6 = df_teamwork.iloc[1500000:-1]\n",
    "\n",
    "df_teamwork_batch1.to_parquet(path_to_folder+'/preprocess_LLM/teamwork_batch1.parquet')\n",
    "df_teamwork_batch2.to_parquet(path_to_folder+'/preprocess_LLM/teamwork_batch2.parquet')\n",
    "df_teamwork_batch3.to_parquet(path_to_folder+'/preprocess_LLM/teamwork_batch3.parquet')\n",
    "df_teamwork_batch4.to_parquet(path_to_folder+'/preprocess_LLM/teamwork_batch4.parquet')\n",
    "df_teamwork_batch5.to_parquet(path_to_folder+'/preprocess_LLM/teamwork_batch5.parquet')\n",
    "df_teamwork_batch6.to_parquet(path_to_folder+'/preprocess_LLM/teamwork_batch6.parquet')"
   ]
  },
  {
   "cell_type": "markdown",
   "metadata": {},
   "source": [
    "### 6. Vader Sentiment Analyzer"
   ]
  },
  {
   "cell_type": "code",
   "execution_count": 30,
   "metadata": {},
   "outputs": [],
   "source": [
    "df_import = pd.read_parquet(path_to_folder+'/data_checkpoint/1.cleaned_text.parquet')"
   ]
  },
  {
   "cell_type": "code",
   "execution_count": 31,
   "metadata": {},
   "outputs": [
    {
     "data": {
      "text/plain": [
       "Index(['reviewId', 'summary', 'pros', 'cons'], dtype='object')"
      ]
     },
     "execution_count": 31,
     "metadata": {},
     "output_type": "execute_result"
    }
   ],
   "source": [
    "df = df_import.copy()\n",
    "df.columns"
   ]
  },
  {
   "cell_type": "code",
   "execution_count": 32,
   "metadata": {},
   "outputs": [],
   "source": [
    "analyzer = SentimentIntensityAnalyzer()\n",
    "\n",
    "df['summary_sentiment'] = df['summary'].swifter.apply(lambda text: analyzer.polarity_scores(text)['compound'])\n",
    "df['pros_sentiment'] = df['pros'].swifter.apply(lambda text: analyzer.polarity_scores(text)['compound'])\n",
    "df['cons_sentiment'] = df['cons'].swifter.apply(lambda text: analyzer.polarity_scores(text)['compound'])\n",
    "\n",
    "df['overall_sentiment'] = (df['summary_sentiment'] + df['pros_sentiment'] + df['cons_sentiment']) / 3\n",
    "\n",
    "df = df[['reviewId', 'summary_sentiment', 'pros_sentiment', 'cons_sentiment', 'overall_sentiment']]"
   ]
  },
  {
   "cell_type": "code",
   "execution_count": 33,
   "metadata": {},
   "outputs": [
    {
     "data": {
      "text/html": [
       "<div>\n",
       "<style scoped>\n",
       "    .dataframe tbody tr th:only-of-type {\n",
       "        vertical-align: middle;\n",
       "    }\n",
       "\n",
       "    .dataframe tbody tr th {\n",
       "        vertical-align: top;\n",
       "    }\n",
       "\n",
       "    .dataframe thead th {\n",
       "        text-align: right;\n",
       "    }\n",
       "</style>\n",
       "<table border=\"1\" class=\"dataframe\">\n",
       "  <thead>\n",
       "    <tr style=\"text-align: right;\">\n",
       "      <th></th>\n",
       "      <th>reviewId</th>\n",
       "      <th>summary_sentiment</th>\n",
       "      <th>pros_sentiment</th>\n",
       "      <th>cons_sentiment</th>\n",
       "      <th>overall_sentiment</th>\n",
       "    </tr>\n",
       "  </thead>\n",
       "  <tbody>\n",
       "    <tr>\n",
       "      <th>0</th>\n",
       "      <td>49</td>\n",
       "      <td>0.6249</td>\n",
       "      <td>0.5994</td>\n",
       "      <td>-0.2500</td>\n",
       "      <td>0.324767</td>\n",
       "    </tr>\n",
       "    <tr>\n",
       "      <th>1</th>\n",
       "      <td>59</td>\n",
       "      <td>-0.0258</td>\n",
       "      <td>0.9153</td>\n",
       "      <td>0.3612</td>\n",
       "      <td>0.416900</td>\n",
       "    </tr>\n",
       "    <tr>\n",
       "      <th>2</th>\n",
       "      <td>77</td>\n",
       "      <td>0.2382</td>\n",
       "      <td>0.9825</td>\n",
       "      <td>0.2247</td>\n",
       "      <td>0.481800</td>\n",
       "    </tr>\n",
       "    <tr>\n",
       "      <th>3</th>\n",
       "      <td>81</td>\n",
       "      <td>0.0000</td>\n",
       "      <td>0.9534</td>\n",
       "      <td>-0.2418</td>\n",
       "      <td>0.237200</td>\n",
       "    </tr>\n",
       "    <tr>\n",
       "      <th>4</th>\n",
       "      <td>83</td>\n",
       "      <td>0.0000</td>\n",
       "      <td>0.9671</td>\n",
       "      <td>0.1756</td>\n",
       "      <td>0.380900</td>\n",
       "    </tr>\n",
       "  </tbody>\n",
       "</table>\n",
       "</div>"
      ],
      "text/plain": [
       "   reviewId  summary_sentiment  pros_sentiment  cons_sentiment  \\\n",
       "0        49             0.6249          0.5994         -0.2500   \n",
       "1        59            -0.0258          0.9153          0.3612   \n",
       "2        77             0.2382          0.9825          0.2247   \n",
       "3        81             0.0000          0.9534         -0.2418   \n",
       "4        83             0.0000          0.9671          0.1756   \n",
       "\n",
       "   overall_sentiment  \n",
       "0           0.324767  \n",
       "1           0.416900  \n",
       "2           0.481800  \n",
       "3           0.237200  \n",
       "4           0.380900  "
      ]
     },
     "execution_count": 33,
     "metadata": {},
     "output_type": "execute_result"
    }
   ],
   "source": [
    "df.head()"
   ]
  },
  {
   "cell_type": "code",
   "execution_count": 34,
   "metadata": {},
   "outputs": [],
   "source": [
    "df.to_parquet(path_to_folder+'/data_checkpoint/6.sentiment_vader.parquet')"
   ]
  },
  {
   "cell_type": "markdown",
   "metadata": {},
   "source": [
    "### 7. matching rule scores with vader sentiment"
   ]
  },
  {
   "cell_type": "code",
   "execution_count": 4,
   "metadata": {},
   "outputs": [],
   "source": [
    "df_sentiment = pd.read_parquet(path_to_folder+'/data_checkpoint/6.sentiment_vader.parquet')\n",
    "df_matching = pd.read_parquet(path_to_folder+'/data_checkpoint/3.matching.parquet')"
   ]
  },
  {
   "cell_type": "code",
   "execution_count": 5,
   "metadata": {},
   "outputs": [],
   "source": [
    "df_matching.drop(['summary', 'pros', 'cons', 'summary_token', 'pros_token', 'cons_token'], axis=1, inplace=True)\n",
    "\n",
    "cols = ['summary_innovative', 'summary_integrity', 'summary_quality', 'summary_respect', 'summary_teamwork',\n",
    "       'pros_innovative', 'pros_integrity', 'pros_quality', 'pros_respect', 'pros_teamwork',\n",
    "       'cons_innovative', 'cons_integrity', 'cons_quality', 'cons_respect', 'cons_teamwork']\n",
    "\n",
    "for col in cols:\n",
    "  df_matching[col] = df_matching[col].replace({True: 1, False: 0})"
   ]
  },
  {
   "cell_type": "code",
   "execution_count": 6,
   "metadata": {},
   "outputs": [],
   "source": [
    "df = pd.merge(df_matching, df_sentiment, on='reviewId', how='inner')"
   ]
  },
  {
   "cell_type": "code",
   "execution_count": 7,
   "metadata": {},
   "outputs": [
    {
     "data": {
      "application/vnd.jupyter.widget-view+json": {
       "model_id": "2224ff134b384ab8b8d6f9e41f672c92",
       "version_major": 2,
       "version_minor": 0
      },
      "text/plain": [
       "Dask Apply:   0%|          | 0/33 [00:00<?, ?it/s]"
      ]
     },
     "metadata": {},
     "output_type": "display_data"
    },
    {
     "data": {
      "application/vnd.jupyter.widget-view+json": {
       "model_id": "ea72c7eb522a4b12a436ca73d50a24ed",
       "version_major": 2,
       "version_minor": 0
      },
      "text/plain": [
       "Dask Apply:   0%|          | 0/33 [00:00<?, ?it/s]"
      ]
     },
     "metadata": {},
     "output_type": "display_data"
    },
    {
     "data": {
      "application/vnd.jupyter.widget-view+json": {
       "model_id": "c4af407ce0324cc8ab7af8634ab53cc6",
       "version_major": 2,
       "version_minor": 0
      },
      "text/plain": [
       "Dask Apply:   0%|          | 0/33 [00:00<?, ?it/s]"
      ]
     },
     "metadata": {},
     "output_type": "display_data"
    },
    {
     "data": {
      "application/vnd.jupyter.widget-view+json": {
       "model_id": "2a3ae728d7ed40e992e8be214baec4c4",
       "version_major": 2,
       "version_minor": 0
      },
      "text/plain": [
       "Dask Apply:   0%|          | 0/33 [00:00<?, ?it/s]"
      ]
     },
     "metadata": {},
     "output_type": "display_data"
    },
    {
     "data": {
      "application/vnd.jupyter.widget-view+json": {
       "model_id": "015e2bc39c4945f89622cf8be8e24c3c",
       "version_major": 2,
       "version_minor": 0
      },
      "text/plain": [
       "Dask Apply:   0%|          | 0/33 [00:00<?, ?it/s]"
      ]
     },
     "metadata": {},
     "output_type": "display_data"
    }
   ],
   "source": [
    "cols_sentiment = ['summary_sentiment', 'pros_sentiment', 'cons_sentiment']\n",
    "\n",
    "cols_innovative = ['summary_innovative', 'pros_innovative', 'cons_innovative']\n",
    "cols_integrity = ['summary_integrity', 'pros_integrity', 'cons_integrity']\n",
    "cols_quality = ['summary_quality', 'pros_quality', 'cons_quality']\n",
    "cols_respect = ['summary_respect', 'pros_respect', 'cons_respect']\n",
    "cols_teamwork = ['summary_teamwork', 'pros_teamwork', 'cons_teamwork']\n",
    "\n",
    "for i in range(3):\n",
    "  df[cols_innovative[i]] = df[cols_innovative[i]] * df[cols_sentiment[i]]\n",
    "  df[cols_integrity[i]] = df[cols_integrity[i]] * df[cols_sentiment[i]]\n",
    "  df[cols_quality[i]] = df[cols_quality[i]] * df[cols_sentiment[i]]\n",
    "  df[cols_respect[i]] = df[cols_respect[i]] * df[cols_sentiment[i]]\n",
    "  df[cols_teamwork[i]] = df[cols_teamwork[i]] * df[cols_sentiment[i]]\n",
    "\n",
    "def signed_max_abs(row):\n",
    "  abs_max_index = np.argmax(np.abs(row))\n",
    "  return row[abs_max_index]\n",
    "\n",
    "df['innovative'] = df[cols_innovative].swifter.apply(signed_max_abs, axis=1)\n",
    "df['integrity'] = df[cols_integrity].swifter.apply(signed_max_abs, axis=1)\n",
    "df['quality'] = df[cols_quality].swifter.apply(signed_max_abs, axis=1)\n",
    "df['respect'] = df[cols_respect].swifter.apply(signed_max_abs, axis=1)\n",
    "df['teamwork'] = df[cols_teamwork].swifter.apply(signed_max_abs, axis=1)"
   ]
  },
  {
   "cell_type": "code",
   "execution_count": 8,
   "metadata": {},
   "outputs": [],
   "source": [
    "df = df[['reviewId', 'summary_sentiment', 'pros_sentiment', 'cons_sentiment', 'overall_sentiment','innovative', 'integrity', 'quality', 'respect', 'teamwork']]"
   ]
  },
  {
   "cell_type": "code",
   "execution_count": 9,
   "metadata": {},
   "outputs": [
    {
     "name": "stdout",
     "output_type": "stream",
     "text": [
      "(4320624, 10)\n"
     ]
    },
    {
     "data": {
      "text/html": [
       "<div>\n",
       "<style scoped>\n",
       "    .dataframe tbody tr th:only-of-type {\n",
       "        vertical-align: middle;\n",
       "    }\n",
       "\n",
       "    .dataframe tbody tr th {\n",
       "        vertical-align: top;\n",
       "    }\n",
       "\n",
       "    .dataframe thead th {\n",
       "        text-align: right;\n",
       "    }\n",
       "</style>\n",
       "<table border=\"1\" class=\"dataframe\">\n",
       "  <thead>\n",
       "    <tr style=\"text-align: right;\">\n",
       "      <th></th>\n",
       "      <th>reviewId</th>\n",
       "      <th>summary_sentiment</th>\n",
       "      <th>pros_sentiment</th>\n",
       "      <th>cons_sentiment</th>\n",
       "      <th>overall_sentiment</th>\n",
       "      <th>innovative</th>\n",
       "      <th>integrity</th>\n",
       "      <th>quality</th>\n",
       "      <th>respect</th>\n",
       "      <th>teamwork</th>\n",
       "    </tr>\n",
       "  </thead>\n",
       "  <tbody>\n",
       "    <tr>\n",
       "      <th>0</th>\n",
       "      <td>49</td>\n",
       "      <td>0.6249</td>\n",
       "      <td>0.5994</td>\n",
       "      <td>-0.2500</td>\n",
       "      <td>0.324767</td>\n",
       "      <td>0.0000</td>\n",
       "      <td>0.0000</td>\n",
       "      <td>0.5994</td>\n",
       "      <td>0.0</td>\n",
       "      <td>0.5994</td>\n",
       "    </tr>\n",
       "    <tr>\n",
       "      <th>1</th>\n",
       "      <td>59</td>\n",
       "      <td>-0.0258</td>\n",
       "      <td>0.9153</td>\n",
       "      <td>0.3612</td>\n",
       "      <td>0.416900</td>\n",
       "      <td>-0.0000</td>\n",
       "      <td>-0.0000</td>\n",
       "      <td>0.9153</td>\n",
       "      <td>-0.0</td>\n",
       "      <td>0.9153</td>\n",
       "    </tr>\n",
       "    <tr>\n",
       "      <th>2</th>\n",
       "      <td>77</td>\n",
       "      <td>0.2382</td>\n",
       "      <td>0.9825</td>\n",
       "      <td>0.2247</td>\n",
       "      <td>0.481800</td>\n",
       "      <td>0.0000</td>\n",
       "      <td>0.0000</td>\n",
       "      <td>0.9825</td>\n",
       "      <td>0.0</td>\n",
       "      <td>0.0000</td>\n",
       "    </tr>\n",
       "    <tr>\n",
       "      <th>3</th>\n",
       "      <td>81</td>\n",
       "      <td>0.0000</td>\n",
       "      <td>0.9534</td>\n",
       "      <td>-0.2418</td>\n",
       "      <td>0.237200</td>\n",
       "      <td>0.0000</td>\n",
       "      <td>0.0000</td>\n",
       "      <td>0.0000</td>\n",
       "      <td>0.0</td>\n",
       "      <td>0.9534</td>\n",
       "    </tr>\n",
       "    <tr>\n",
       "      <th>4</th>\n",
       "      <td>83</td>\n",
       "      <td>0.0000</td>\n",
       "      <td>0.9671</td>\n",
       "      <td>0.1756</td>\n",
       "      <td>0.380900</td>\n",
       "      <td>0.9671</td>\n",
       "      <td>0.9671</td>\n",
       "      <td>0.9671</td>\n",
       "      <td>0.0</td>\n",
       "      <td>0.1756</td>\n",
       "    </tr>\n",
       "  </tbody>\n",
       "</table>\n",
       "</div>"
      ],
      "text/plain": [
       "   reviewId  summary_sentiment  pros_sentiment  cons_sentiment  \\\n",
       "0        49             0.6249          0.5994         -0.2500   \n",
       "1        59            -0.0258          0.9153          0.3612   \n",
       "2        77             0.2382          0.9825          0.2247   \n",
       "3        81             0.0000          0.9534         -0.2418   \n",
       "4        83             0.0000          0.9671          0.1756   \n",
       "\n",
       "   overall_sentiment  innovative  integrity  quality  respect  teamwork  \n",
       "0           0.324767      0.0000     0.0000   0.5994      0.0    0.5994  \n",
       "1           0.416900     -0.0000    -0.0000   0.9153     -0.0    0.9153  \n",
       "2           0.481800      0.0000     0.0000   0.9825      0.0    0.0000  \n",
       "3           0.237200      0.0000     0.0000   0.0000      0.0    0.9534  \n",
       "4           0.380900      0.9671     0.9671   0.9671      0.0    0.1756  "
      ]
     },
     "execution_count": 9,
     "metadata": {},
     "output_type": "execute_result"
    }
   ],
   "source": [
    "print(df.shape)\n",
    "df.head()"
   ]
  },
  {
   "cell_type": "code",
   "execution_count": 10,
   "metadata": {},
   "outputs": [],
   "source": [
    "df.to_parquet(path_to_folder+'/data_checkpoint/7.sentiment_vader_aspect_matching.parquet')"
   ]
  },
  {
   "cell_type": "markdown",
   "metadata": {},
   "source": [
    "### 8. distillbert sentiment"
   ]
  },
  {
   "cell_type": "code",
   "execution_count": null,
   "metadata": {},
   "outputs": [],
   "source": [
    "import pandas as pd\n",
    "from transformers import pipeline\n",
    "from tqdm import tqdm\n",
    "from transformers import pipeline\n",
    "from datasets import load_dataset\n",
    "from torch.utils.data import DataLoader\n",
    "import json"
   ]
  },
  {
   "cell_type": "code",
   "execution_count": null,
   "metadata": {},
   "outputs": [],
   "source": [
    "classifier = pipeline('sentiment-analysis', model='distilbert/distilbert-base-uncased-finetuned-sst-2-english', device=0)\n",
    "\n",
    "def collate_fn(batch):\n",
    "  review_ids = [row['reviewId'] for row in batch]\n",
    "  \n",
    "  # 512 length limitation of this model\n",
    "  max_length = 512\n",
    "  batch_summary = [row['summary'][:max_length] for row in batch]\n",
    "  batch_pros = [row['pros'][:max_length] for row in batch]\n",
    "  batch_cons = [row['cons'][:max_length] for row in batch]\n",
    "\n",
    "  return review_ids, batch_summary, batch_pros, batch_cons\n",
    "\n",
    "filepath = \"C:/Users/phku0/Quant_Project/data_checkpoint/1.cleaned_text.parquet\"\n",
    "dataset = load_dataset(\"parquet\", data_files=filepath)[\"train\"]\n",
    "# dataset = dataset.select(range(0,100))\n",
    "dataloader = DataLoader(dataset, batch_size=128, collate_fn=collate_fn, shuffle=False, num_workers=0)\n",
    "\n",
    "def sentiment_to_score(sentiment_dict):\n",
    "  if sentiment_dict['label'] == 'POSITIVE':\n",
    "    score = sentiment_dict['score']\n",
    "  elif sentiment_dict['label'] == 'NEGATIVE':\n",
    "    score = -sentiment_dict['score']\n",
    "  else:\n",
    "    score = 0\n",
    "  return score\n",
    "\n",
    "results_list = []\n",
    "\n",
    "output_filepath = \"C:/Users/phku0/Quant_Project/data_checkpoint/7.sentiment_distilbert.json\"\n",
    "with open(output_filepath, \"w\") as outfile:\n",
    "  for batch in tqdm(dataloader):\n",
    "    review_ids, batch_summary, batch_pros, batch_cons = batch\n",
    "\n",
    "    summary_result = classifier(batch_summary)\n",
    "    pros_result = classifier(batch_pros)\n",
    "    cons_result = classifier(batch_cons)\n",
    "\n",
    "    summary_sentiment = [sentiment_to_score(result) for result in summary_result]\n",
    "    pros_sentiment = [sentiment_to_score(result) for result in pros_result]\n",
    "    cons_sentiment = [sentiment_to_score(result) for result in cons_result]\n",
    "\n",
    "    for i in range(len(review_ids)):\n",
    "      result_dict = {\n",
    "        \"reviewId\": review_ids[i],\n",
    "        \"summary_sentiment\": summary_sentiment[i],\n",
    "        \"pros_sentiment\": pros_sentiment[i],\n",
    "        \"cons_sentiment\": cons_sentiment[i]\n",
    "      }\n",
    "      outfile.write(json.dumps(result_dict) + \"\\n\")"
   ]
  },
  {
   "cell_type": "code",
   "execution_count": null,
   "metadata": {},
   "outputs": [],
   "source": [
    "df = pd.read_json(\"C:/Users/phku0/Quant_Project/data_checkpoint/7.sentiment_distilbert.json\", lines=True)\n",
    "df.shape\n",
    "df.head()"
   ]
  },
  {
   "cell_type": "code",
   "execution_count": null,
   "metadata": {},
   "outputs": [],
   "source": [
    "df = pd.read_json(\"C:/Users/phku0/Quant_Project/data_checkpoint/7.sentiment_distilbert.json\", lines=True)\n",
    "df.shape\n",
    "df.head()"
   ]
  },
  {
   "cell_type": "markdown",
   "metadata": {},
   "source": [
    "### 9. matching rule scores with distillbert sentiment"
   ]
  },
  {
   "cell_type": "code",
   "execution_count": 3,
   "metadata": {},
   "outputs": [
    {
     "data": {
      "text/html": [
       "<div>\n",
       "<style scoped>\n",
       "    .dataframe tbody tr th:only-of-type {\n",
       "        vertical-align: middle;\n",
       "    }\n",
       "\n",
       "    .dataframe tbody tr th {\n",
       "        vertical-align: top;\n",
       "    }\n",
       "\n",
       "    .dataframe thead th {\n",
       "        text-align: right;\n",
       "    }\n",
       "</style>\n",
       "<table border=\"1\" class=\"dataframe\">\n",
       "  <thead>\n",
       "    <tr style=\"text-align: right;\">\n",
       "      <th></th>\n",
       "      <th>reviewId</th>\n",
       "      <th>summary_sentiment</th>\n",
       "      <th>pros_sentiment</th>\n",
       "      <th>cons_sentiment</th>\n",
       "      <th>overall_sentiment</th>\n",
       "    </tr>\n",
       "  </thead>\n",
       "  <tbody>\n",
       "    <tr>\n",
       "      <th>0</th>\n",
       "      <td>49</td>\n",
       "      <td>0.999667</td>\n",
       "      <td>0.999435</td>\n",
       "      <td>-0.999216</td>\n",
       "      <td>0.333295</td>\n",
       "    </tr>\n",
       "    <tr>\n",
       "      <th>1</th>\n",
       "      <td>59</td>\n",
       "      <td>-0.996828</td>\n",
       "      <td>0.999867</td>\n",
       "      <td>-0.992616</td>\n",
       "      <td>-0.329859</td>\n",
       "    </tr>\n",
       "    <tr>\n",
       "      <th>2</th>\n",
       "      <td>77</td>\n",
       "      <td>0.999640</td>\n",
       "      <td>0.999834</td>\n",
       "      <td>-0.999324</td>\n",
       "      <td>0.333383</td>\n",
       "    </tr>\n",
       "    <tr>\n",
       "      <th>3</th>\n",
       "      <td>81</td>\n",
       "      <td>0.997240</td>\n",
       "      <td>0.994371</td>\n",
       "      <td>0.628813</td>\n",
       "      <td>0.873475</td>\n",
       "    </tr>\n",
       "    <tr>\n",
       "      <th>4</th>\n",
       "      <td>83</td>\n",
       "      <td>0.991291</td>\n",
       "      <td>0.994669</td>\n",
       "      <td>-0.999427</td>\n",
       "      <td>0.328844</td>\n",
       "    </tr>\n",
       "  </tbody>\n",
       "</table>\n",
       "</div>"
      ],
      "text/plain": [
       "   reviewId  summary_sentiment  pros_sentiment  cons_sentiment  \\\n",
       "0        49           0.999667        0.999435       -0.999216   \n",
       "1        59          -0.996828        0.999867       -0.992616   \n",
       "2        77           0.999640        0.999834       -0.999324   \n",
       "3        81           0.997240        0.994371        0.628813   \n",
       "4        83           0.991291        0.994669       -0.999427   \n",
       "\n",
       "   overall_sentiment  \n",
       "0           0.333295  \n",
       "1          -0.329859  \n",
       "2           0.333383  \n",
       "3           0.873475  \n",
       "4           0.328844  "
      ]
     },
     "execution_count": 3,
     "metadata": {},
     "output_type": "execute_result"
    }
   ],
   "source": [
    "df_sentiment = pd.read_parquet(path_to_folder+'/data_checkpoint/8.sentiment_distilbert.parquet')\n",
    "df_sentiment['overall_sentiment'] = (df_sentiment['summary_sentiment'] + df_sentiment['pros_sentiment'] + df_sentiment['cons_sentiment']) / 3\n",
    "df_sentiment.head()"
   ]
  },
  {
   "cell_type": "code",
   "execution_count": 4,
   "metadata": {},
   "outputs": [],
   "source": [
    "df_matching = pd.read_parquet(path_to_folder+'/data_checkpoint/3.matching.parquet')\n",
    "\n",
    "df_matching.drop(['summary', 'pros', 'cons', 'summary_token', 'pros_token', 'cons_token'], axis=1, inplace=True)\n",
    "\n",
    "cols = ['summary_innovative', 'summary_integrity', 'summary_quality', 'summary_respect', 'summary_teamwork',\n",
    "       'pros_innovative', 'pros_integrity', 'pros_quality', 'pros_respect', 'pros_teamwork',\n",
    "       'cons_innovative', 'cons_integrity', 'cons_quality', 'cons_respect', 'cons_teamwork']\n",
    "\n",
    "for col in cols:\n",
    "  df_matching[col] = df_matching[col].replace({True: 1, False: 0})"
   ]
  },
  {
   "cell_type": "code",
   "execution_count": 5,
   "metadata": {},
   "outputs": [],
   "source": [
    "df = pd.merge(df_matching, df_sentiment, on='reviewId', how='inner')"
   ]
  },
  {
   "cell_type": "code",
   "execution_count": 6,
   "metadata": {},
   "outputs": [
    {
     "data": {
      "application/vnd.jupyter.widget-view+json": {
       "model_id": "18349a0f53644e2faee29a28f49905c0",
       "version_major": 2,
       "version_minor": 0
      },
      "text/plain": [
       "Dask Apply:   0%|          | 0/33 [00:00<?, ?it/s]"
      ]
     },
     "metadata": {},
     "output_type": "display_data"
    },
    {
     "data": {
      "application/vnd.jupyter.widget-view+json": {
       "model_id": "d29df945777b46da8b602fa45ab9f909",
       "version_major": 2,
       "version_minor": 0
      },
      "text/plain": [
       "Dask Apply:   0%|          | 0/33 [00:00<?, ?it/s]"
      ]
     },
     "metadata": {},
     "output_type": "display_data"
    },
    {
     "data": {
      "application/vnd.jupyter.widget-view+json": {
       "model_id": "1dec964a40dc44a696e9be07602ae706",
       "version_major": 2,
       "version_minor": 0
      },
      "text/plain": [
       "Dask Apply:   0%|          | 0/33 [00:00<?, ?it/s]"
      ]
     },
     "metadata": {},
     "output_type": "display_data"
    },
    {
     "data": {
      "application/vnd.jupyter.widget-view+json": {
       "model_id": "76ba3b174d0941ddb8b4e78cc8b2e4c2",
       "version_major": 2,
       "version_minor": 0
      },
      "text/plain": [
       "Dask Apply:   0%|          | 0/33 [00:00<?, ?it/s]"
      ]
     },
     "metadata": {},
     "output_type": "display_data"
    },
    {
     "data": {
      "application/vnd.jupyter.widget-view+json": {
       "model_id": "275aebc098724fedaf6edf501e343b13",
       "version_major": 2,
       "version_minor": 0
      },
      "text/plain": [
       "Dask Apply:   0%|          | 0/33 [00:00<?, ?it/s]"
      ]
     },
     "metadata": {},
     "output_type": "display_data"
    }
   ],
   "source": [
    "cols_sentiment = ['summary_sentiment', 'pros_sentiment', 'cons_sentiment']\n",
    "\n",
    "cols_innovative = ['summary_innovative', 'pros_innovative', 'cons_innovative']\n",
    "cols_integrity = ['summary_integrity', 'pros_integrity', 'cons_integrity']\n",
    "cols_quality = ['summary_quality', 'pros_quality', 'cons_quality']\n",
    "cols_respect = ['summary_respect', 'pros_respect', 'cons_respect']\n",
    "cols_teamwork = ['summary_teamwork', 'pros_teamwork', 'cons_teamwork']\n",
    "\n",
    "for i in range(3):\n",
    "  df[cols_innovative[i]] = df[cols_innovative[i]] * df[cols_sentiment[i]]\n",
    "  df[cols_integrity[i]] = df[cols_integrity[i]] * df[cols_sentiment[i]]\n",
    "  df[cols_quality[i]] = df[cols_quality[i]] * df[cols_sentiment[i]]\n",
    "  df[cols_respect[i]] = df[cols_respect[i]] * df[cols_sentiment[i]]\n",
    "  df[cols_teamwork[i]] = df[cols_teamwork[i]] * df[cols_sentiment[i]]\n",
    "\n",
    "def signed_max_abs(row):\n",
    "  abs_max_index = np.argmax(np.abs(row))\n",
    "  return row[abs_max_index]\n",
    "\n",
    "df['innovative'] = df[cols_innovative].swifter.apply(signed_max_abs, axis=1)\n",
    "df['integrity'] = df[cols_integrity].swifter.apply(signed_max_abs, axis=1)\n",
    "df['quality'] = df[cols_quality].swifter.apply(signed_max_abs, axis=1)\n",
    "df['respect'] = df[cols_respect].swifter.apply(signed_max_abs, axis=1)\n",
    "df['teamwork'] = df[cols_teamwork].swifter.apply(signed_max_abs, axis=1)"
   ]
  },
  {
   "cell_type": "code",
   "execution_count": 7,
   "metadata": {},
   "outputs": [],
   "source": [
    "df = df[['reviewId', 'summary_sentiment', 'pros_sentiment', 'cons_sentiment', 'overall_sentiment','innovative', 'integrity', 'quality', 'respect', 'teamwork']]"
   ]
  },
  {
   "cell_type": "code",
   "execution_count": 8,
   "metadata": {},
   "outputs": [
    {
     "name": "stdout",
     "output_type": "stream",
     "text": [
      "(4320624, 10)\n"
     ]
    },
    {
     "data": {
      "text/html": [
       "<div>\n",
       "<style scoped>\n",
       "    .dataframe tbody tr th:only-of-type {\n",
       "        vertical-align: middle;\n",
       "    }\n",
       "\n",
       "    .dataframe tbody tr th {\n",
       "        vertical-align: top;\n",
       "    }\n",
       "\n",
       "    .dataframe thead th {\n",
       "        text-align: right;\n",
       "    }\n",
       "</style>\n",
       "<table border=\"1\" class=\"dataframe\">\n",
       "  <thead>\n",
       "    <tr style=\"text-align: right;\">\n",
       "      <th></th>\n",
       "      <th>reviewId</th>\n",
       "      <th>summary_sentiment</th>\n",
       "      <th>pros_sentiment</th>\n",
       "      <th>cons_sentiment</th>\n",
       "      <th>overall_sentiment</th>\n",
       "      <th>innovative</th>\n",
       "      <th>integrity</th>\n",
       "      <th>quality</th>\n",
       "      <th>respect</th>\n",
       "      <th>teamwork</th>\n",
       "    </tr>\n",
       "  </thead>\n",
       "  <tbody>\n",
       "    <tr>\n",
       "      <th>0</th>\n",
       "      <td>49</td>\n",
       "      <td>0.999667</td>\n",
       "      <td>0.999435</td>\n",
       "      <td>-0.999216</td>\n",
       "      <td>0.333295</td>\n",
       "      <td>0.000000</td>\n",
       "      <td>0.000000</td>\n",
       "      <td>0.999435</td>\n",
       "      <td>0.0</td>\n",
       "      <td>0.999435</td>\n",
       "    </tr>\n",
       "    <tr>\n",
       "      <th>1</th>\n",
       "      <td>59</td>\n",
       "      <td>-0.996828</td>\n",
       "      <td>0.999867</td>\n",
       "      <td>-0.992616</td>\n",
       "      <td>-0.329859</td>\n",
       "      <td>-0.000000</td>\n",
       "      <td>-0.000000</td>\n",
       "      <td>0.999867</td>\n",
       "      <td>-0.0</td>\n",
       "      <td>0.999867</td>\n",
       "    </tr>\n",
       "    <tr>\n",
       "      <th>2</th>\n",
       "      <td>77</td>\n",
       "      <td>0.999640</td>\n",
       "      <td>0.999834</td>\n",
       "      <td>-0.999324</td>\n",
       "      <td>0.333383</td>\n",
       "      <td>0.000000</td>\n",
       "      <td>0.000000</td>\n",
       "      <td>0.999834</td>\n",
       "      <td>0.0</td>\n",
       "      <td>0.000000</td>\n",
       "    </tr>\n",
       "    <tr>\n",
       "      <th>3</th>\n",
       "      <td>81</td>\n",
       "      <td>0.997240</td>\n",
       "      <td>0.994371</td>\n",
       "      <td>0.628813</td>\n",
       "      <td>0.873475</td>\n",
       "      <td>0.000000</td>\n",
       "      <td>0.000000</td>\n",
       "      <td>0.000000</td>\n",
       "      <td>0.0</td>\n",
       "      <td>0.994371</td>\n",
       "    </tr>\n",
       "    <tr>\n",
       "      <th>4</th>\n",
       "      <td>83</td>\n",
       "      <td>0.991291</td>\n",
       "      <td>0.994669</td>\n",
       "      <td>-0.999427</td>\n",
       "      <td>0.328844</td>\n",
       "      <td>0.994669</td>\n",
       "      <td>0.994669</td>\n",
       "      <td>-0.999427</td>\n",
       "      <td>0.0</td>\n",
       "      <td>-0.999427</td>\n",
       "    </tr>\n",
       "  </tbody>\n",
       "</table>\n",
       "</div>"
      ],
      "text/plain": [
       "   reviewId  summary_sentiment  pros_sentiment  cons_sentiment  \\\n",
       "0        49           0.999667        0.999435       -0.999216   \n",
       "1        59          -0.996828        0.999867       -0.992616   \n",
       "2        77           0.999640        0.999834       -0.999324   \n",
       "3        81           0.997240        0.994371        0.628813   \n",
       "4        83           0.991291        0.994669       -0.999427   \n",
       "\n",
       "   overall_sentiment  innovative  integrity   quality  respect  teamwork  \n",
       "0           0.333295    0.000000   0.000000  0.999435      0.0  0.999435  \n",
       "1          -0.329859   -0.000000  -0.000000  0.999867     -0.0  0.999867  \n",
       "2           0.333383    0.000000   0.000000  0.999834      0.0  0.000000  \n",
       "3           0.873475    0.000000   0.000000  0.000000      0.0  0.994371  \n",
       "4           0.328844    0.994669   0.994669 -0.999427      0.0 -0.999427  "
      ]
     },
     "execution_count": 8,
     "metadata": {},
     "output_type": "execute_result"
    }
   ],
   "source": [
    "print(df.shape)\n",
    "df.head()"
   ]
  },
  {
   "cell_type": "code",
   "execution_count": 9,
   "metadata": {},
   "outputs": [],
   "source": [
    "df.to_parquet(path_to_folder+'/data_checkpoint/9.sentiment_distillbert_aspect_matching.parquet')"
   ]
  },
  {
   "cell_type": "markdown",
   "metadata": {},
   "source": [
    "### 10. roberta sentiment"
   ]
  },
  {
   "cell_type": "code",
   "execution_count": null,
   "metadata": {},
   "outputs": [],
   "source": [
    "import pandas as pd\n",
    "from transformers import pipeline\n",
    "from tqdm import tqdm\n",
    "from transformers import pipeline\n",
    "from datasets import load_dataset\n",
    "from torch.utils.data import DataLoader\n",
    "import json"
   ]
  },
  {
   "cell_type": "code",
   "execution_count": null,
   "metadata": {},
   "outputs": [],
   "source": [
    "classifier = pipeline('sentiment-analysis', model='cardiffnlp/twitter-roberta-base-sentiment', device=0)\n",
    "\n",
    "def collate_fn(batch):\n",
    "  review_ids = [row['reviewId'] for row in batch]\n",
    "  \n",
    "  # length limitation?\n",
    "  max_length = 1024\n",
    "  batch_summary = [row['summary'][:max_length] for row in batch]\n",
    "  batch_pros = [row['pros'][:max_length] for row in batch]\n",
    "  batch_cons = [row['cons'][:max_length] for row in batch]\n",
    "  batch_advice = [row['advice'][:max_length] for row in batch]\n",
    "\n",
    "  return review_ids, batch_summary, batch_pros, batch_cons, batch_advice\n",
    "\n",
    "filepath = \"C:/Users/phku0/Quant_Project/data_checkpoint/1.cleaned_text.parquet\"\n",
    "dataset = load_dataset(\"parquet\", data_files=filepath)[\"train\"]\n",
    "# dataset = dataset.select(range(0,3000))\n",
    "dataloader = DataLoader(dataset, batch_size=11000, collate_fn=collate_fn, shuffle=False, num_workers=0)\n",
    "\n",
    "def sentiment_to_score(sentiment_dict):\n",
    "  if sentiment_dict['label'] == 'LABEL_2':\n",
    "    score = sentiment_dict['score']\n",
    "  elif sentiment_dict['label'] == 'LABEL_0':\n",
    "    score = -sentiment_dict['score']\n",
    "  else:\n",
    "    score = 0\n",
    "  return score\n",
    "\n",
    "results_list = []\n",
    "\n",
    "output_filepath = \"C:/Users/phku0/Quant_Project/data_checkpoint/10.sentiment_roberta.json\"\n",
    "with open(output_filepath, \"w\") as outfile:\n",
    "  for batch in tqdm(dataloader):\n",
    "    review_ids, batch_summary, batch_pros, batch_cons, batch_advice = batch\n",
    "\n",
    "    summary_result = classifier(batch_summary)\n",
    "    pros_result = classifier(batch_pros)\n",
    "    cons_result = classifier(batch_cons)\n",
    "    advice_result = classifier(batch_advice)\n",
    "\n",
    "    summary_sentiment = [sentiment_to_score(result) for result in summary_result]\n",
    "    pros_sentiment = [sentiment_to_score(result) for result in pros_result]\n",
    "    cons_sentiment = [sentiment_to_score(result) for result in cons_result]\n",
    "    advice_sentiment = [sentiment_to_score(result) for result in advice_result]\n",
    "\n",
    "    for i in range(len(review_ids)):\n",
    "      result_dict = {\n",
    "        \"reviewId\": review_ids[i],\n",
    "        \"summary_sentiment\": summary_sentiment[i],\n",
    "        \"pros_sentiment\": pros_sentiment[i],\n",
    "        \"cons_sentiment\": cons_sentiment[i],\n",
    "        \"advice_sentiment\": advice_sentiment[i]\n",
    "      }\n",
    "      outfile.write(json.dumps(result_dict) + \"\\n\")\n"
   ]
  },
  {
   "cell_type": "code",
   "execution_count": null,
   "metadata": {},
   "outputs": [],
   "source": [
    "df = pd.read_json(\"C:/Users/phku0/Quant_Project/data_checkpoint/10.sentiment_roberta.json\", lines=True)\n",
    "print(df.shape)\n",
    "df.head()"
   ]
  },
  {
   "cell_type": "code",
   "execution_count": null,
   "metadata": {},
   "outputs": [],
   "source": [
    "df.to_parquet(\"C:/Users/phku0/Quant_Project/data_checkpoint/10.sentiment_roberta.parquet\")"
   ]
  },
  {
   "cell_type": "markdown",
   "metadata": {},
   "source": [
    "### 11. matching rule scores with roberta sentiment"
   ]
  },
  {
   "cell_type": "code",
   "execution_count": 20,
   "metadata": {},
   "outputs": [
    {
     "data": {
      "text/html": [
       "<div>\n",
       "<style scoped>\n",
       "    .dataframe tbody tr th:only-of-type {\n",
       "        vertical-align: middle;\n",
       "    }\n",
       "\n",
       "    .dataframe tbody tr th {\n",
       "        vertical-align: top;\n",
       "    }\n",
       "\n",
       "    .dataframe thead th {\n",
       "        text-align: right;\n",
       "    }\n",
       "</style>\n",
       "<table border=\"1\" class=\"dataframe\">\n",
       "  <thead>\n",
       "    <tr style=\"text-align: right;\">\n",
       "      <th></th>\n",
       "      <th>reviewId</th>\n",
       "      <th>summary_sentiment</th>\n",
       "      <th>pros_sentiment</th>\n",
       "      <th>cons_sentiment</th>\n",
       "      <th>overall_sentiment</th>\n",
       "    </tr>\n",
       "  </thead>\n",
       "  <tbody>\n",
       "    <tr>\n",
       "      <th>0</th>\n",
       "      <td>49</td>\n",
       "      <td>0.958085</td>\n",
       "      <td>0.951453</td>\n",
       "      <td>0.000000</td>\n",
       "      <td>0.636513</td>\n",
       "    </tr>\n",
       "    <tr>\n",
       "      <th>1</th>\n",
       "      <td>59</td>\n",
       "      <td>-0.830964</td>\n",
       "      <td>0.956963</td>\n",
       "      <td>0.000000</td>\n",
       "      <td>0.042000</td>\n",
       "    </tr>\n",
       "    <tr>\n",
       "      <th>2</th>\n",
       "      <td>77</td>\n",
       "      <td>0.867430</td>\n",
       "      <td>0.955116</td>\n",
       "      <td>-0.576136</td>\n",
       "      <td>0.415470</td>\n",
       "    </tr>\n",
       "    <tr>\n",
       "      <th>3</th>\n",
       "      <td>81</td>\n",
       "      <td>0.545637</td>\n",
       "      <td>0.930963</td>\n",
       "      <td>0.000000</td>\n",
       "      <td>0.492200</td>\n",
       "    </tr>\n",
       "    <tr>\n",
       "      <th>4</th>\n",
       "      <td>83</td>\n",
       "      <td>0.000000</td>\n",
       "      <td>0.949141</td>\n",
       "      <td>-0.825076</td>\n",
       "      <td>0.041355</td>\n",
       "    </tr>\n",
       "  </tbody>\n",
       "</table>\n",
       "</div>"
      ],
      "text/plain": [
       "   reviewId  summary_sentiment  pros_sentiment  cons_sentiment  \\\n",
       "0        49           0.958085        0.951453        0.000000   \n",
       "1        59          -0.830964        0.956963        0.000000   \n",
       "2        77           0.867430        0.955116       -0.576136   \n",
       "3        81           0.545637        0.930963        0.000000   \n",
       "4        83           0.000000        0.949141       -0.825076   \n",
       "\n",
       "   overall_sentiment  \n",
       "0           0.636513  \n",
       "1           0.042000  \n",
       "2           0.415470  \n",
       "3           0.492200  \n",
       "4           0.041355  "
      ]
     },
     "execution_count": 20,
     "metadata": {},
     "output_type": "execute_result"
    }
   ],
   "source": [
    "df_sentiment = pd.read_parquet(path_to_folder+'/data_checkpoint/10.sentiment_roberta.parquet')\n",
    "df_sentiment['overall_sentiment'] = (df_sentiment['summary_sentiment'] + df_sentiment['pros_sentiment'] + df_sentiment['cons_sentiment']) / 3\n",
    "df_sentiment.head()"
   ]
  },
  {
   "cell_type": "code",
   "execution_count": 21,
   "metadata": {},
   "outputs": [],
   "source": [
    "df_matching = pd.read_parquet(path_to_folder+'/data_checkpoint/3.matching.parquet')\n",
    "\n",
    "df_matching.drop(['summary', 'pros', 'cons', 'summary_token', 'pros_token', 'cons_token'], axis=1, inplace=True)\n",
    "\n",
    "cols = ['summary_innovative', 'summary_integrity', 'summary_quality', 'summary_respect', 'summary_teamwork',\n",
    "       'pros_innovative', 'pros_integrity', 'pros_quality', 'pros_respect', 'pros_teamwork',\n",
    "       'cons_innovative', 'cons_integrity', 'cons_quality', 'cons_respect', 'cons_teamwork']\n",
    "\n",
    "for col in cols:\n",
    "  df_matching[col] = df_matching[col].replace({True: 1, False: 0})"
   ]
  },
  {
   "cell_type": "code",
   "execution_count": 24,
   "metadata": {},
   "outputs": [],
   "source": [
    "df = pd.merge(df_matching, df_sentiment, on='reviewId', how='inner')"
   ]
  },
  {
   "cell_type": "code",
   "execution_count": 27,
   "metadata": {},
   "outputs": [
    {
     "data": {
      "application/vnd.jupyter.widget-view+json": {
       "model_id": "d6fb1079601147ae9712dff82baccd88",
       "version_major": 2,
       "version_minor": 0
      },
      "text/plain": [
       "Dask Apply:   0%|          | 0/33 [00:00<?, ?it/s]"
      ]
     },
     "metadata": {},
     "output_type": "display_data"
    },
    {
     "data": {
      "application/vnd.jupyter.widget-view+json": {
       "model_id": "40cec9c41da847fa9bb1db68af8b139f",
       "version_major": 2,
       "version_minor": 0
      },
      "text/plain": [
       "Dask Apply:   0%|          | 0/33 [00:00<?, ?it/s]"
      ]
     },
     "metadata": {},
     "output_type": "display_data"
    },
    {
     "data": {
      "application/vnd.jupyter.widget-view+json": {
       "model_id": "e3b0279f6c0e4742855f0f395d6c39d8",
       "version_major": 2,
       "version_minor": 0
      },
      "text/plain": [
       "Dask Apply:   0%|          | 0/33 [00:00<?, ?it/s]"
      ]
     },
     "metadata": {},
     "output_type": "display_data"
    },
    {
     "data": {
      "application/vnd.jupyter.widget-view+json": {
       "model_id": "f4e89d61acbb4d748323e3283106ca59",
       "version_major": 2,
       "version_minor": 0
      },
      "text/plain": [
       "Dask Apply:   0%|          | 0/33 [00:00<?, ?it/s]"
      ]
     },
     "metadata": {},
     "output_type": "display_data"
    },
    {
     "data": {
      "application/vnd.jupyter.widget-view+json": {
       "model_id": "f431d6cff13148a8b60d825c62957e16",
       "version_major": 2,
       "version_minor": 0
      },
      "text/plain": [
       "Dask Apply:   0%|          | 0/33 [00:00<?, ?it/s]"
      ]
     },
     "metadata": {},
     "output_type": "display_data"
    }
   ],
   "source": [
    "cols_sentiment = ['summary_sentiment', 'pros_sentiment', 'cons_sentiment']\n",
    "\n",
    "cols_innovative = ['summary_innovative', 'pros_innovative', 'cons_innovative']\n",
    "cols_integrity = ['summary_integrity', 'pros_integrity', 'cons_integrity']\n",
    "cols_quality = ['summary_quality', 'pros_quality', 'cons_quality']\n",
    "cols_respect = ['summary_respect', 'pros_respect', 'cons_respect']\n",
    "cols_teamwork = ['summary_teamwork', 'pros_teamwork', 'cons_teamwork']\n",
    "\n",
    "for i in range(3):\n",
    "  df[cols_innovative[i]] = df[cols_innovative[i]] * df[cols_sentiment[i]]\n",
    "  df[cols_integrity[i]] = df[cols_integrity[i]] * df[cols_sentiment[i]]\n",
    "  df[cols_quality[i]] = df[cols_quality[i]] * df[cols_sentiment[i]]\n",
    "  df[cols_respect[i]] = df[cols_respect[i]] * df[cols_sentiment[i]]\n",
    "  df[cols_teamwork[i]] = df[cols_teamwork[i]] * df[cols_sentiment[i]]\n",
    "\n",
    "def signed_max_abs(row):\n",
    "  abs_max_index = np.argmax(np.abs(row))\n",
    "  return row[abs_max_index]\n",
    "\n",
    "df['innovative'] = df[cols_innovative].swifter.apply(signed_max_abs, axis=1)\n",
    "df['integrity'] = df[cols_integrity].swifter.apply(signed_max_abs, axis=1)\n",
    "df['quality'] = df[cols_quality].swifter.apply(signed_max_abs, axis=1)\n",
    "df['respect'] = df[cols_respect].swifter.apply(signed_max_abs, axis=1)\n",
    "df['teamwork'] = df[cols_teamwork].swifter.apply(signed_max_abs, axis=1)"
   ]
  },
  {
   "cell_type": "code",
   "execution_count": 28,
   "metadata": {},
   "outputs": [],
   "source": [
    "df = df[['reviewId', 'summary_sentiment', 'pros_sentiment', 'cons_sentiment', 'overall_sentiment','innovative', 'integrity', 'quality', 'respect', 'teamwork']]"
   ]
  },
  {
   "cell_type": "code",
   "execution_count": 29,
   "metadata": {},
   "outputs": [
    {
     "name": "stdout",
     "output_type": "stream",
     "text": [
      "(4320624, 10)\n"
     ]
    },
    {
     "data": {
      "text/html": [
       "<div>\n",
       "<style scoped>\n",
       "    .dataframe tbody tr th:only-of-type {\n",
       "        vertical-align: middle;\n",
       "    }\n",
       "\n",
       "    .dataframe tbody tr th {\n",
       "        vertical-align: top;\n",
       "    }\n",
       "\n",
       "    .dataframe thead th {\n",
       "        text-align: right;\n",
       "    }\n",
       "</style>\n",
       "<table border=\"1\" class=\"dataframe\">\n",
       "  <thead>\n",
       "    <tr style=\"text-align: right;\">\n",
       "      <th></th>\n",
       "      <th>reviewId</th>\n",
       "      <th>summary_sentiment</th>\n",
       "      <th>pros_sentiment</th>\n",
       "      <th>cons_sentiment</th>\n",
       "      <th>overall_sentiment</th>\n",
       "      <th>innovative</th>\n",
       "      <th>integrity</th>\n",
       "      <th>quality</th>\n",
       "      <th>respect</th>\n",
       "      <th>teamwork</th>\n",
       "    </tr>\n",
       "  </thead>\n",
       "  <tbody>\n",
       "    <tr>\n",
       "      <th>0</th>\n",
       "      <td>49</td>\n",
       "      <td>0.958085</td>\n",
       "      <td>0.951453</td>\n",
       "      <td>0.000000</td>\n",
       "      <td>0.636513</td>\n",
       "      <td>0.000000</td>\n",
       "      <td>0.000000</td>\n",
       "      <td>0.951453</td>\n",
       "      <td>0.0</td>\n",
       "      <td>0.951453</td>\n",
       "    </tr>\n",
       "    <tr>\n",
       "      <th>1</th>\n",
       "      <td>59</td>\n",
       "      <td>-0.830964</td>\n",
       "      <td>0.956963</td>\n",
       "      <td>0.000000</td>\n",
       "      <td>0.042000</td>\n",
       "      <td>-0.000000</td>\n",
       "      <td>-0.000000</td>\n",
       "      <td>0.956963</td>\n",
       "      <td>-0.0</td>\n",
       "      <td>0.956963</td>\n",
       "    </tr>\n",
       "    <tr>\n",
       "      <th>2</th>\n",
       "      <td>77</td>\n",
       "      <td>0.867430</td>\n",
       "      <td>0.955116</td>\n",
       "      <td>-0.576136</td>\n",
       "      <td>0.415470</td>\n",
       "      <td>0.000000</td>\n",
       "      <td>0.000000</td>\n",
       "      <td>0.955116</td>\n",
       "      <td>0.0</td>\n",
       "      <td>0.000000</td>\n",
       "    </tr>\n",
       "    <tr>\n",
       "      <th>3</th>\n",
       "      <td>81</td>\n",
       "      <td>0.545637</td>\n",
       "      <td>0.930963</td>\n",
       "      <td>0.000000</td>\n",
       "      <td>0.492200</td>\n",
       "      <td>0.000000</td>\n",
       "      <td>0.000000</td>\n",
       "      <td>0.000000</td>\n",
       "      <td>0.0</td>\n",
       "      <td>0.930963</td>\n",
       "    </tr>\n",
       "    <tr>\n",
       "      <th>4</th>\n",
       "      <td>83</td>\n",
       "      <td>0.000000</td>\n",
       "      <td>0.949141</td>\n",
       "      <td>-0.825076</td>\n",
       "      <td>0.041355</td>\n",
       "      <td>0.949141</td>\n",
       "      <td>0.949141</td>\n",
       "      <td>0.949141</td>\n",
       "      <td>0.0</td>\n",
       "      <td>-0.825076</td>\n",
       "    </tr>\n",
       "  </tbody>\n",
       "</table>\n",
       "</div>"
      ],
      "text/plain": [
       "   reviewId  summary_sentiment  pros_sentiment  cons_sentiment  \\\n",
       "0        49           0.958085        0.951453        0.000000   \n",
       "1        59          -0.830964        0.956963        0.000000   \n",
       "2        77           0.867430        0.955116       -0.576136   \n",
       "3        81           0.545637        0.930963        0.000000   \n",
       "4        83           0.000000        0.949141       -0.825076   \n",
       "\n",
       "   overall_sentiment  innovative  integrity   quality  respect  teamwork  \n",
       "0           0.636513    0.000000   0.000000  0.951453      0.0  0.951453  \n",
       "1           0.042000   -0.000000  -0.000000  0.956963     -0.0  0.956963  \n",
       "2           0.415470    0.000000   0.000000  0.955116      0.0  0.000000  \n",
       "3           0.492200    0.000000   0.000000  0.000000      0.0  0.930963  \n",
       "4           0.041355    0.949141   0.949141  0.949141      0.0 -0.825076  "
      ]
     },
     "execution_count": 29,
     "metadata": {},
     "output_type": "execute_result"
    }
   ],
   "source": [
    "print(df.shape)\n",
    "df.head()"
   ]
  },
  {
   "cell_type": "code",
   "execution_count": 30,
   "metadata": {},
   "outputs": [],
   "source": [
    "df.to_parquet(path_to_folder+'/data_checkpoint/11.sentiment_roberta_aspect_matching.parquet')"
   ]
  },
  {
   "cell_type": "markdown",
   "metadata": {},
   "source": [
    "### 12. LLM template using part 5 preprocessed data"
   ]
  },
  {
   "cell_type": "code",
   "execution_count": null,
   "metadata": {},
   "outputs": [],
   "source": [
    "import torch\n",
    "from torch.utils.data import Dataset, DataLoader\n",
    "from transformers import pipeline, AutoModelForCausalLM, AutoTokenizer\n",
    "from datasets import load_dataset\n",
    "from tqdm import tqdm\n",
    "import time\n",
    "import pandas as pd\n",
    "import json\n",
    "\n",
    "model_name = \"meta-llama/Llama-3.2-3B-Instruct\"\n",
    "tokenizer = AutoTokenizer.from_pretrained(model_name, padding_side='left')\n",
    "model = AutoModelForCausalLM.from_pretrained(\n",
    "  model_name,\n",
    "  torch_dtype=torch.float16,\n",
    "  trust_remote_code=True\n",
    ").to(\"cuda\")\n",
    "\n",
    "if tokenizer.pad_token_id is None:\n",
    "  tokenizer.pad_token_id = tokenizer.eos_token_id\n",
    "if model.config.pad_token_id is None:\n",
    "  model.config.pad_token_id = model.config.eos_token_id\n",
    "if model.config.bos_token_id is None:\n",
    "  model.config.bos_token_id = tokenizer.bos_token_id\n",
    "if model.config.eos_token_id is None:\n",
    "  model.config.eos_token_id = tokenizer.eos_token_id\n",
    "if model.generation_config.pad_token_id is None:\n",
    "  model.generation_config.pad_token_id = tokenizer.pad_token_id"
   ]
  },
  {
   "cell_type": "code",
   "execution_count": null,
   "metadata": {},
   "outputs": [],
   "source": [
    "# template: change aspect, input file path and output file path\n",
    "\n",
    "# Function to create prompts\n",
    "def make_prompt(aspect, summary, pros, cons):\n",
    "  system_msg = f\"\"\"\n",
    "You are an Aspect-Based Sentiment Analysis assistant.\n",
    "Your task is to analyze the sentiment of text concerning a specific aspect: '{aspect}'.\n",
    "\n",
    "For each review provided by the user, you will give a sentiment score between 0 and 1 for the aspect '{aspect}'.\n",
    "The score should reflect how positive or negative the review is specifically towards '{aspect}', where:\n",
    "- 0 means very negative\n",
    "- 0.5 means neutral\n",
    "- 1 means very positive\n",
    "\n",
    "If the '{aspect}' is not mentioned in the review, return a score of 0.5.\n",
    "Please respond only with a number between 0 and 1, rounded to two decimal places\\n\n",
    "\"\"\"\n",
    "\n",
    "  user_msg = f\"\"\"\n",
    "Text to analyze:\n",
    "Summary: {summary}\n",
    "Pros: {pros}\n",
    "Cons: {cons}\n",
    "\n",
    "Based on the text above, return one number towards '{aspect}', without any additional explanation.\n",
    "\"\"\"\n",
    "  return system_msg + user_msg\n",
    "\n",
    "# Custom Dataset class for PyTorch\n",
    "class AspectSentimentDataset(Dataset):\n",
    "  def __init__(self, dataset, aspect=\"quality\"):\n",
    "    self.dataset = dataset\n",
    "    self.aspect = aspect\n",
    "\n",
    "  def __len__(self):\n",
    "    return len(self.dataset)\n",
    "\n",
    "  def __getitem__(self, idx):\n",
    "    # Extract individual rows from the dataset\n",
    "    summary = self.dataset[idx]['summary']\n",
    "    pros = self.dataset[idx]['pros']\n",
    "    cons = self.dataset[idx]['cons']\n",
    "    review_id = self.dataset[idx]['reviewId']\n",
    "\n",
    "    # Create the prompt\n",
    "    prompt = make_prompt(self.aspect, summary, pros, cons)\n",
    "\n",
    "    return {\"prompt\": prompt, \"reviewId\": review_id}\n",
    "\n",
    "# Collate function for DataLoader\n",
    "def collate_fn(batch):\n",
    "  # Extract prompts\n",
    "  prompts = [item['prompt'] for item in batch]\n",
    "\n",
    "  # Tokenize the prompts\n",
    "  tokenized_inputs = tokenizer(\n",
    "    prompts,\n",
    "    padding=True,\n",
    "    truncation=True,\n",
    "    max_length=3000,\n",
    "    return_tensors=\"pt\",\n",
    "  )\n",
    "\n",
    "  # Move tokenized inputs to the GPU\n",
    "  tokenized_inputs = {key: val.to(model.device) for key, val in tokenized_inputs.items()}\n",
    "\n",
    "  # Also return the reviewIds to keep track of the results\n",
    "  review_ids = [item['reviewId'] for item in batch]\n",
    "\n",
    "  return tokenized_inputs, review_ids\n",
    "\n",
    "# Function for processing batches\n",
    "def process_batch(model, tokenized_inputs):\n",
    "  with torch.no_grad():  # Disable gradient calculation for inference\n",
    "    outputs = model.generate(\n",
    "      **tokenized_inputs,\n",
    "      max_new_tokens=3,\n",
    "      do_sample = False,\n",
    "      top_p=0.3,\n",
    "    )\n",
    "\n",
    "  return outputs\n",
    "\n",
    "dataset = load_dataset(\"parquet\", data_files=\"/content/drive/MyDrive/Colab Notebooks/quant_project/data/quality_batch1.parquet\")[\"train\"]\n",
    "# dataset = dataset.select(range(1, 100))\n",
    "\n",
    "torch_dataset = AspectSentimentDataset(dataset)\n",
    "\n",
    "batch_size = 1\n",
    "dataloader = DataLoader(torch_dataset, batch_size=batch_size, shuffle=False, collate_fn=collate_fn)\n",
    "\n",
    "total_batches = len(dataloader)\n",
    "\n",
    "with open(\"/content/drive/MyDrive/Colab Notebooks/quant_project/data_output/quality_batch1b_output.json\", \"w\") as outfile:\n",
    "  for batch in tqdm(dataloader, total=total_batches, desc=\"Processing batches\"):\n",
    "    tokenized_inputs, review_ids = batch\n",
    "    generated_outputs = process_batch(model, tokenized_inputs)\n",
    "    generated_texts = tokenizer.batch_decode(generated_outputs, skip_special_tokens=True)\n",
    "\n",
    "    for review_id, output in zip(review_ids, generated_texts):\n",
    "      try:\n",
    "        result = output.split(\"without any additional explanation\")[1]\n",
    "      except:\n",
    "        result = None\n",
    "      result_dict = {\"reviewId\": review_id, \"result\": result}\n",
    "      outfile.write(json.dumps(result_dict) + \"\\n\")"
   ]
  },
  {
   "cell_type": "markdown",
   "metadata": {},
   "source": [
    "### 13. merge LLM outputs into one file"
   ]
  },
  {
   "cell_type": "code",
   "execution_count": null,
   "metadata": {},
   "outputs": [],
   "source": [
    "import pandas as pd\n",
    "\n",
    "df_inno_1 = pd.read_json(\"/content/drive/MyDrive/Colab Notebooks/LLM_outputs/innovative_batch1_output.json\", lines=True)\n",
    "df_inno_2 = pd.read_json(\"/content/drive/MyDrive/Colab Notebooks/LLM_outputs/innovative_batch2_output.json\", lines=True)\n",
    "df_inno_3 = pd.read_json(\"/content/drive/MyDrive/Colab Notebooks/LLM_outputs/innovative_batch3_output.json\", lines=True)\n",
    "\n",
    "df_inte_1 = pd.read_json(\"/content/drive/MyDrive/Colab Notebooks/LLM_outputs/integrity_batch1_output.json\", lines=True)\n",
    "df_inte_2 = pd.read_json(\"/content/drive/MyDrive/Colab Notebooks/LLM_outputs/integrity_batch2_output.json\", lines=True)\n",
    "df_inte_3 = pd.read_json(\"/content/drive/MyDrive/Colab Notebooks/LLM_outputs/integrity_batch3_output.json\", lines=True)\n",
    "\n",
    "df_qua_1 = pd.read_json(\"/content/drive/MyDrive/Colab Notebooks/LLM_outputs/quality_batch1_output.json\", lines=True)\n",
    "df_qua_1b = pd.read_json(\"/content/drive/MyDrive/Colab Notebooks/LLM_outputs/quality_batch1b_output.json\", lines=True)\n",
    "df_qua_2 = pd.read_json(\"/content/drive/MyDrive/Colab Notebooks/LLM_outputs/quality_batch2_output.json\", lines=True)\n",
    "df_qua_3 = pd.read_json(\"/content/drive/MyDrive/Colab Notebooks/LLM_outputs/quality_batch3_output.json\", lines=True)\n",
    "\n",
    "df_resp_1 = pd.read_json(\"/content/drive/MyDrive/Colab Notebooks/LLM_outputs/respect_batch1_output.json\", lines=True)\n",
    "df_resp_2 = pd.read_json(\"/content/drive/MyDrive/Colab Notebooks/LLM_outputs/respect_batch2_output.json\", lines=True)\n",
    "df_resp_3 = pd.read_json(\"/content/drive/MyDrive/Colab Notebooks/LLM_outputs/respect_batch3_output.json\", lines=True)\n",
    "\n",
    "df_team_1 = pd.read_json(\"/content/drive/MyDrive/Colab Notebooks/LLM_outputs/teamwork_batch1_output.json\", lines=True)\n",
    "df_team_2 = pd.read_json(\"/content/drive/MyDrive/Colab Notebooks/LLM_outputs/teamwork_batch2_output.json\", lines=True)\n",
    "df_team_3 = pd.read_json(\"/content/drive/MyDrive/Colab Notebooks/LLM_outputs/teamwork_batch3_output.json\", lines=True)\n",
    "df_team_4 = pd.read_json(\"/content/drive/MyDrive/Colab Notebooks/LLM_outputs/teamwork_batch4_output.json\", lines=True)\n",
    "df_team_5 = pd.read_json(\"/content/drive/MyDrive/Colab Notebooks/LLM_outputs/teamwork_batch5_output.json\", lines=True)\n",
    "df_team_6 = pd.read_json(\"/content/drive/MyDrive/Colab Notebooks/LLM_outputs/teamwork_batch6_output.json\", lines=True)"
   ]
  },
  {
   "cell_type": "code",
   "execution_count": null,
   "metadata": {},
   "outputs": [],
   "source": [
    "df_inno = pd.concat([df_inno_1, df_inno_2, df_inno_3], ignore_index=True)\n",
    "df_inte = pd.concat([df_inte_1, df_inte_2, df_inte_3], ignore_index=True)\n",
    "df_qua = pd.concat([df_qua_1, df_qua_1b, df_qua_2, df_qua_3], ignore_index=True)\n",
    "df_resp = pd.concat([df_resp_1, df_resp_2, df_resp_3], ignore_index=True)\n",
    "df_team = pd.concat([df_team_1, df_team_2, df_team_3, df_team_4, df_team_5, df_team_6], ignore_index=True)"
   ]
  },
  {
   "cell_type": "code",
   "execution_count": null,
   "metadata": {},
   "outputs": [],
   "source": [
    "df_inno.rename({'result': 'innovative'}, axis=1, inplace=True)\n",
    "df_inte.rename({'result': 'integrity'}, axis=1, inplace=True)\n",
    "df_qua.rename({'result': 'quality'}, axis=1, inplace=True)\n",
    "df_resp.rename({'result': 'respect'}, axis=1, inplace=True)\n",
    "df_team.rename({'result': 'teamwork'}, axis=1, inplace=True)"
   ]
  },
  {
   "cell_type": "code",
   "execution_count": null,
   "metadata": {},
   "outputs": [],
   "source": [
    "df = pd.merge(df_inno, df_inte, on='reviewId', how='outer')\n",
    "df = pd.merge(df, df_qua, on='reviewId', how='outer')\n",
    "df = pd.merge(df, df_resp, on='reviewId', how='outer')\n",
    "df = pd.merge(df, df_team, on='reviewId', how='outer')"
   ]
  },
  {
   "cell_type": "code",
   "execution_count": null,
   "metadata": {},
   "outputs": [],
   "source": [
    "import re\n",
    "import numpy as np\n",
    "import swifter\n",
    "\n",
    "pattern = re.compile('\\d{1}\\.\\d{1,2}')\n",
    "\n",
    "def clean_text(text):\n",
    "  if pd.isna(text):\n",
    "    return np.nan\n",
    "  result = re.search(pattern, text)\n",
    "  if result:\n",
    "    return float(result.group())\n",
    "  else:\n",
    "    return np.nan\n",
    "\n",
    "cols = ['innovative', 'integrity', 'quality', 'respect', 'teamwork']\n",
    "\n",
    "df[cols] = df[cols].swifter.applymap(clean_text)"
   ]
  },
  {
   "cell_type": "code",
   "execution_count": null,
   "metadata": {},
   "outputs": [],
   "source": [
    "df.to_parquet(\"/content/drive/MyDrive/Colab Notebooks/LLM_asba_output.parquet\")"
   ]
  }
 ],
 "metadata": {
  "colab": {
   "authorship_tag": "ABX9TyP1Kt1ucDzS69ABJKecXv2i",
   "collapsed_sections": [
    "768duY2PaNK5",
    "vvnJOtdAaTTA",
    "zzasQsOTa9UC"
   ],
   "mount_file_id": "1pkxinfMqDf71Mtk3v5lYIqEVtljtcUUK",
   "provenance": []
  },
  "kernelspec": {
   "display_name": ".venv",
   "language": "python",
   "name": "python3"
  },
  "language_info": {
   "codemirror_mode": {
    "name": "ipython",
    "version": 3
   },
   "file_extension": ".py",
   "mimetype": "text/x-python",
   "name": "python",
   "nbconvert_exporter": "python",
   "pygments_lexer": "ipython3",
   "version": "3.11.9"
  },
  "widgets": {
   "application/vnd.jupyter.widget-state+json": {
    "020e3881fcb445b9980e3a74520fd7e5": {
     "model_module": "@jupyter-widgets/base",
     "model_module_version": "1.2.0",
     "model_name": "LayoutModel",
     "state": {
      "_model_module": "@jupyter-widgets/base",
      "_model_module_version": "1.2.0",
      "_model_name": "LayoutModel",
      "_view_count": null,
      "_view_module": "@jupyter-widgets/base",
      "_view_module_version": "1.2.0",
      "_view_name": "LayoutView",
      "align_content": null,
      "align_items": null,
      "align_self": null,
      "border": null,
      "bottom": null,
      "display": null,
      "flex": null,
      "flex_flow": null,
      "grid_area": null,
      "grid_auto_columns": null,
      "grid_auto_flow": null,
      "grid_auto_rows": null,
      "grid_column": null,
      "grid_gap": null,
      "grid_row": null,
      "grid_template_areas": null,
      "grid_template_columns": null,
      "grid_template_rows": null,
      "height": null,
      "justify_content": null,
      "justify_items": null,
      "left": null,
      "margin": null,
      "max_height": null,
      "max_width": null,
      "min_height": null,
      "min_width": null,
      "object_fit": null,
      "object_position": null,
      "order": null,
      "overflow": null,
      "overflow_x": null,
      "overflow_y": null,
      "padding": null,
      "right": null,
      "top": null,
      "visibility": null,
      "width": null
     }
    },
    "080b9af5c07d4795a2b8386575579470": {
     "model_module": "@jupyter-widgets/controls",
     "model_module_version": "1.5.0",
     "model_name": "FloatProgressModel",
     "state": {
      "_dom_classes": [],
      "_model_module": "@jupyter-widgets/controls",
      "_model_module_version": "1.5.0",
      "_model_name": "FloatProgressModel",
      "_view_count": null,
      "_view_module": "@jupyter-widgets/controls",
      "_view_module_version": "1.5.0",
      "_view_name": "ProgressView",
      "bar_style": "",
      "description": "",
      "description_tooltip": null,
      "layout": "IPY_MODEL_94c3658849074edfb44002ef7b8cbbcd",
      "max": 12961872,
      "min": 0,
      "orientation": "horizontal",
      "style": "IPY_MODEL_c1dc22a8fc834d93927c0ac6c6950696",
      "value": 15910
     }
    },
    "11a00adb4acd4663b0786b2bdbc45e45": {
     "model_module": "@jupyter-widgets/controls",
     "model_module_version": "1.5.0",
     "model_name": "ProgressStyleModel",
     "state": {
      "_model_module": "@jupyter-widgets/controls",
      "_model_module_version": "1.5.0",
      "_model_name": "ProgressStyleModel",
      "_view_count": null,
      "_view_module": "@jupyter-widgets/base",
      "_view_module_version": "1.2.0",
      "_view_name": "StyleView",
      "bar_color": null,
      "description_width": ""
     }
    },
    "1e460fe98ce34b54aeb83ce6da413e43": {
     "model_module": "@jupyter-widgets/controls",
     "model_module_version": "1.5.0",
     "model_name": "DescriptionStyleModel",
     "state": {
      "_model_module": "@jupyter-widgets/controls",
      "_model_module_version": "1.5.0",
      "_model_name": "DescriptionStyleModel",
      "_view_count": null,
      "_view_module": "@jupyter-widgets/base",
      "_view_module_version": "1.2.0",
      "_view_name": "StyleView",
      "description_width": ""
     }
    },
    "2435521f253b4337b83042c0f38db80e": {
     "model_module": "@jupyter-widgets/controls",
     "model_module_version": "1.5.0",
     "model_name": "DescriptionStyleModel",
     "state": {
      "_model_module": "@jupyter-widgets/controls",
      "_model_module_version": "1.5.0",
      "_model_name": "DescriptionStyleModel",
      "_view_count": null,
      "_view_module": "@jupyter-widgets/base",
      "_view_module_version": "1.2.0",
      "_view_name": "StyleView",
      "description_width": ""
     }
    },
    "3302e7a20d0144ba9bde87d65f9fe6aa": {
     "model_module": "@jupyter-widgets/base",
     "model_module_version": "1.2.0",
     "model_name": "LayoutModel",
     "state": {
      "_model_module": "@jupyter-widgets/base",
      "_model_module_version": "1.2.0",
      "_model_name": "LayoutModel",
      "_view_count": null,
      "_view_module": "@jupyter-widgets/base",
      "_view_module_version": "1.2.0",
      "_view_name": "LayoutView",
      "align_content": null,
      "align_items": null,
      "align_self": null,
      "border": null,
      "bottom": null,
      "display": null,
      "flex": null,
      "flex_flow": null,
      "grid_area": null,
      "grid_auto_columns": null,
      "grid_auto_flow": null,
      "grid_auto_rows": null,
      "grid_column": null,
      "grid_gap": null,
      "grid_row": null,
      "grid_template_areas": null,
      "grid_template_columns": null,
      "grid_template_rows": null,
      "height": null,
      "justify_content": null,
      "justify_items": null,
      "left": null,
      "margin": null,
      "max_height": null,
      "max_width": null,
      "min_height": null,
      "min_width": null,
      "object_fit": null,
      "object_position": null,
      "order": null,
      "overflow": null,
      "overflow_x": null,
      "overflow_y": null,
      "padding": null,
      "right": null,
      "top": null,
      "visibility": null,
      "width": null
     }
    },
    "4335b43b173140a0b230fcd092fe420a": {
     "model_module": "@jupyter-widgets/controls",
     "model_module_version": "1.5.0",
     "model_name": "DescriptionStyleModel",
     "state": {
      "_model_module": "@jupyter-widgets/controls",
      "_model_module_version": "1.5.0",
      "_model_name": "DescriptionStyleModel",
      "_view_count": null,
      "_view_module": "@jupyter-widgets/base",
      "_view_module_version": "1.2.0",
      "_view_name": "StyleView",
      "description_width": ""
     }
    },
    "637a5f17a42a4c57a898894411a82653": {
     "model_module": "@jupyter-widgets/base",
     "model_module_version": "1.2.0",
     "model_name": "LayoutModel",
     "state": {
      "_model_module": "@jupyter-widgets/base",
      "_model_module_version": "1.2.0",
      "_model_name": "LayoutModel",
      "_view_count": null,
      "_view_module": "@jupyter-widgets/base",
      "_view_module_version": "1.2.0",
      "_view_name": "LayoutView",
      "align_content": null,
      "align_items": null,
      "align_self": null,
      "border": null,
      "bottom": null,
      "display": null,
      "flex": null,
      "flex_flow": null,
      "grid_area": null,
      "grid_auto_columns": null,
      "grid_auto_flow": null,
      "grid_auto_rows": null,
      "grid_column": null,
      "grid_gap": null,
      "grid_row": null,
      "grid_template_areas": null,
      "grid_template_columns": null,
      "grid_template_rows": null,
      "height": null,
      "justify_content": null,
      "justify_items": null,
      "left": null,
      "margin": null,
      "max_height": null,
      "max_width": null,
      "min_height": null,
      "min_width": null,
      "object_fit": null,
      "object_position": null,
      "order": null,
      "overflow": null,
      "overflow_x": null,
      "overflow_y": null,
      "padding": null,
      "right": null,
      "top": null,
      "visibility": null,
      "width": null
     }
    },
    "65599e5d2c2a411b842385479c039388": {
     "model_module": "@jupyter-widgets/base",
     "model_module_version": "1.2.0",
     "model_name": "LayoutModel",
     "state": {
      "_model_module": "@jupyter-widgets/base",
      "_model_module_version": "1.2.0",
      "_model_name": "LayoutModel",
      "_view_count": null,
      "_view_module": "@jupyter-widgets/base",
      "_view_module_version": "1.2.0",
      "_view_name": "LayoutView",
      "align_content": null,
      "align_items": null,
      "align_self": null,
      "border": null,
      "bottom": null,
      "display": null,
      "flex": null,
      "flex_flow": null,
      "grid_area": null,
      "grid_auto_columns": null,
      "grid_auto_flow": null,
      "grid_auto_rows": null,
      "grid_column": null,
      "grid_gap": null,
      "grid_row": null,
      "grid_template_areas": null,
      "grid_template_columns": null,
      "grid_template_rows": null,
      "height": null,
      "justify_content": null,
      "justify_items": null,
      "left": null,
      "margin": null,
      "max_height": null,
      "max_width": null,
      "min_height": null,
      "min_width": null,
      "object_fit": null,
      "object_position": null,
      "order": null,
      "overflow": null,
      "overflow_x": null,
      "overflow_y": null,
      "padding": null,
      "right": null,
      "top": null,
      "visibility": null,
      "width": null
     }
    },
    "66f6e504e8ae49db86b6d39c2ac58c4c": {
     "model_module": "@jupyter-widgets/controls",
     "model_module_version": "1.5.0",
     "model_name": "HTMLModel",
     "state": {
      "_dom_classes": [],
      "_model_module": "@jupyter-widgets/controls",
      "_model_module_version": "1.5.0",
      "_model_name": "HTMLModel",
      "_view_count": null,
      "_view_module": "@jupyter-widgets/controls",
      "_view_module_version": "1.5.0",
      "_view_name": "HTMLView",
      "description": "",
      "description_tooltip": null,
      "layout": "IPY_MODEL_7ca4211d369940168e2c83ac3c5828b7",
      "placeholder": "​",
      "style": "IPY_MODEL_2435521f253b4337b83042c0f38db80e",
      "value": "Pandas Apply: 100%"
     }
    },
    "70b73fce69b64c53b0d0cf3d69346e59": {
     "model_module": "@jupyter-widgets/controls",
     "model_module_version": "1.5.0",
     "model_name": "HBoxModel",
     "state": {
      "_dom_classes": [],
      "_model_module": "@jupyter-widgets/controls",
      "_model_module_version": "1.5.0",
      "_model_name": "HBoxModel",
      "_view_count": null,
      "_view_module": "@jupyter-widgets/controls",
      "_view_module_version": "1.5.0",
      "_view_name": "HBoxView",
      "box_style": "",
      "children": [
       "IPY_MODEL_ee31bcac57d74ca7aee96dc3dc5a3f3d",
       "IPY_MODEL_080b9af5c07d4795a2b8386575579470",
       "IPY_MODEL_f618b21c59824fbf89446f251907c03e"
      ],
      "layout": "IPY_MODEL_ea458bf0adc24e998f70d71b74b4c4bf"
     }
    },
    "776aaa304fae4dbd875595e107768983": {
     "model_module": "@jupyter-widgets/controls",
     "model_module_version": "1.5.0",
     "model_name": "HBoxModel",
     "state": {
      "_dom_classes": [],
      "_model_module": "@jupyter-widgets/controls",
      "_model_module_version": "1.5.0",
      "_model_name": "HBoxModel",
      "_view_count": null,
      "_view_module": "@jupyter-widgets/controls",
      "_view_module_version": "1.5.0",
      "_view_name": "HBoxView",
      "box_style": "",
      "children": [
       "IPY_MODEL_66f6e504e8ae49db86b6d39c2ac58c4c",
       "IPY_MODEL_cc279739f1244d72b8c1e58523c2a73f",
       "IPY_MODEL_f678894c581444769b2ac5d6057b68c4"
      ],
      "layout": "IPY_MODEL_020e3881fcb445b9980e3a74520fd7e5"
     }
    },
    "7ca4211d369940168e2c83ac3c5828b7": {
     "model_module": "@jupyter-widgets/base",
     "model_module_version": "1.2.0",
     "model_name": "LayoutModel",
     "state": {
      "_model_module": "@jupyter-widgets/base",
      "_model_module_version": "1.2.0",
      "_model_name": "LayoutModel",
      "_view_count": null,
      "_view_module": "@jupyter-widgets/base",
      "_view_module_version": "1.2.0",
      "_view_name": "LayoutView",
      "align_content": null,
      "align_items": null,
      "align_self": null,
      "border": null,
      "bottom": null,
      "display": null,
      "flex": null,
      "flex_flow": null,
      "grid_area": null,
      "grid_auto_columns": null,
      "grid_auto_flow": null,
      "grid_auto_rows": null,
      "grid_column": null,
      "grid_gap": null,
      "grid_row": null,
      "grid_template_areas": null,
      "grid_template_columns": null,
      "grid_template_rows": null,
      "height": null,
      "justify_content": null,
      "justify_items": null,
      "left": null,
      "margin": null,
      "max_height": null,
      "max_width": null,
      "min_height": null,
      "min_width": null,
      "object_fit": null,
      "object_position": null,
      "order": null,
      "overflow": null,
      "overflow_x": null,
      "overflow_y": null,
      "padding": null,
      "right": null,
      "top": null,
      "visibility": null,
      "width": null
     }
    },
    "94c3658849074edfb44002ef7b8cbbcd": {
     "model_module": "@jupyter-widgets/base",
     "model_module_version": "1.2.0",
     "model_name": "LayoutModel",
     "state": {
      "_model_module": "@jupyter-widgets/base",
      "_model_module_version": "1.2.0",
      "_model_name": "LayoutModel",
      "_view_count": null,
      "_view_module": "@jupyter-widgets/base",
      "_view_module_version": "1.2.0",
      "_view_name": "LayoutView",
      "align_content": null,
      "align_items": null,
      "align_self": null,
      "border": null,
      "bottom": null,
      "display": null,
      "flex": null,
      "flex_flow": null,
      "grid_area": null,
      "grid_auto_columns": null,
      "grid_auto_flow": null,
      "grid_auto_rows": null,
      "grid_column": null,
      "grid_gap": null,
      "grid_row": null,
      "grid_template_areas": null,
      "grid_template_columns": null,
      "grid_template_rows": null,
      "height": null,
      "justify_content": null,
      "justify_items": null,
      "left": null,
      "margin": null,
      "max_height": null,
      "max_width": null,
      "min_height": null,
      "min_width": null,
      "object_fit": null,
      "object_position": null,
      "order": null,
      "overflow": null,
      "overflow_x": null,
      "overflow_y": null,
      "padding": null,
      "right": null,
      "top": null,
      "visibility": null,
      "width": null
     }
    },
    "c1dc22a8fc834d93927c0ac6c6950696": {
     "model_module": "@jupyter-widgets/controls",
     "model_module_version": "1.5.0",
     "model_name": "ProgressStyleModel",
     "state": {
      "_model_module": "@jupyter-widgets/controls",
      "_model_module_version": "1.5.0",
      "_model_name": "ProgressStyleModel",
      "_view_count": null,
      "_view_module": "@jupyter-widgets/base",
      "_view_module_version": "1.2.0",
      "_view_name": "StyleView",
      "bar_color": null,
      "description_width": ""
     }
    },
    "c5f82410e69d463fa5a28f4ecb913108": {
     "model_module": "@jupyter-widgets/controls",
     "model_module_version": "1.5.0",
     "model_name": "DescriptionStyleModel",
     "state": {
      "_model_module": "@jupyter-widgets/controls",
      "_model_module_version": "1.5.0",
      "_model_name": "DescriptionStyleModel",
      "_view_count": null,
      "_view_module": "@jupyter-widgets/base",
      "_view_module_version": "1.2.0",
      "_view_name": "StyleView",
      "description_width": ""
     }
    },
    "cc279739f1244d72b8c1e58523c2a73f": {
     "model_module": "@jupyter-widgets/controls",
     "model_module_version": "1.5.0",
     "model_name": "FloatProgressModel",
     "state": {
      "_dom_classes": [],
      "_model_module": "@jupyter-widgets/controls",
      "_model_module_version": "1.5.0",
      "_model_name": "FloatProgressModel",
      "_view_count": null,
      "_view_module": "@jupyter-widgets/controls",
      "_view_module_version": "1.5.0",
      "_view_name": "ProgressView",
      "bar_style": "success",
      "description": "",
      "description_tooltip": null,
      "layout": "IPY_MODEL_637a5f17a42a4c57a898894411a82653",
      "max": 12961872,
      "min": 0,
      "orientation": "horizontal",
      "style": "IPY_MODEL_11a00adb4acd4663b0786b2bdbc45e45",
      "value": 12961872
     }
    },
    "ea458bf0adc24e998f70d71b74b4c4bf": {
     "model_module": "@jupyter-widgets/base",
     "model_module_version": "1.2.0",
     "model_name": "LayoutModel",
     "state": {
      "_model_module": "@jupyter-widgets/base",
      "_model_module_version": "1.2.0",
      "_model_name": "LayoutModel",
      "_view_count": null,
      "_view_module": "@jupyter-widgets/base",
      "_view_module_version": "1.2.0",
      "_view_name": "LayoutView",
      "align_content": null,
      "align_items": null,
      "align_self": null,
      "border": null,
      "bottom": null,
      "display": null,
      "flex": null,
      "flex_flow": null,
      "grid_area": null,
      "grid_auto_columns": null,
      "grid_auto_flow": null,
      "grid_auto_rows": null,
      "grid_column": null,
      "grid_gap": null,
      "grid_row": null,
      "grid_template_areas": null,
      "grid_template_columns": null,
      "grid_template_rows": null,
      "height": null,
      "justify_content": null,
      "justify_items": null,
      "left": null,
      "margin": null,
      "max_height": null,
      "max_width": null,
      "min_height": null,
      "min_width": null,
      "object_fit": null,
      "object_position": null,
      "order": null,
      "overflow": null,
      "overflow_x": null,
      "overflow_y": null,
      "padding": null,
      "right": null,
      "top": null,
      "visibility": null,
      "width": null
     }
    },
    "ede314afa0cd459cb8ea70e07f845702": {
     "model_module": "@jupyter-widgets/base",
     "model_module_version": "1.2.0",
     "model_name": "LayoutModel",
     "state": {
      "_model_module": "@jupyter-widgets/base",
      "_model_module_version": "1.2.0",
      "_model_name": "LayoutModel",
      "_view_count": null,
      "_view_module": "@jupyter-widgets/base",
      "_view_module_version": "1.2.0",
      "_view_name": "LayoutView",
      "align_content": null,
      "align_items": null,
      "align_self": null,
      "border": null,
      "bottom": null,
      "display": null,
      "flex": null,
      "flex_flow": null,
      "grid_area": null,
      "grid_auto_columns": null,
      "grid_auto_flow": null,
      "grid_auto_rows": null,
      "grid_column": null,
      "grid_gap": null,
      "grid_row": null,
      "grid_template_areas": null,
      "grid_template_columns": null,
      "grid_template_rows": null,
      "height": null,
      "justify_content": null,
      "justify_items": null,
      "left": null,
      "margin": null,
      "max_height": null,
      "max_width": null,
      "min_height": null,
      "min_width": null,
      "object_fit": null,
      "object_position": null,
      "order": null,
      "overflow": null,
      "overflow_x": null,
      "overflow_y": null,
      "padding": null,
      "right": null,
      "top": null,
      "visibility": null,
      "width": null
     }
    },
    "ee31bcac57d74ca7aee96dc3dc5a3f3d": {
     "model_module": "@jupyter-widgets/controls",
     "model_module_version": "1.5.0",
     "model_name": "HTMLModel",
     "state": {
      "_dom_classes": [],
      "_model_module": "@jupyter-widgets/controls",
      "_model_module_version": "1.5.0",
      "_model_name": "HTMLModel",
      "_view_count": null,
      "_view_module": "@jupyter-widgets/controls",
      "_view_module_version": "1.5.0",
      "_view_name": "HTMLView",
      "description": "",
      "description_tooltip": null,
      "layout": "IPY_MODEL_65599e5d2c2a411b842385479c039388",
      "placeholder": "​",
      "style": "IPY_MODEL_1e460fe98ce34b54aeb83ce6da413e43",
      "value": "Pandas Apply:   0%"
     }
    },
    "f618b21c59824fbf89446f251907c03e": {
     "model_module": "@jupyter-widgets/controls",
     "model_module_version": "1.5.0",
     "model_name": "HTMLModel",
     "state": {
      "_dom_classes": [],
      "_model_module": "@jupyter-widgets/controls",
      "_model_module_version": "1.5.0",
      "_model_name": "HTMLModel",
      "_view_count": null,
      "_view_module": "@jupyter-widgets/controls",
      "_view_module_version": "1.5.0",
      "_view_name": "HTMLView",
      "description": "",
      "description_tooltip": null,
      "layout": "IPY_MODEL_3302e7a20d0144ba9bde87d65f9fe6aa",
      "placeholder": "​",
      "style": "IPY_MODEL_4335b43b173140a0b230fcd092fe420a",
      "value": " 15910/12961872 [00:18&lt;5:48:33, 619.01it/s]"
     }
    },
    "f678894c581444769b2ac5d6057b68c4": {
     "model_module": "@jupyter-widgets/controls",
     "model_module_version": "1.5.0",
     "model_name": "HTMLModel",
     "state": {
      "_dom_classes": [],
      "_model_module": "@jupyter-widgets/controls",
      "_model_module_version": "1.5.0",
      "_model_name": "HTMLModel",
      "_view_count": null,
      "_view_module": "@jupyter-widgets/controls",
      "_view_module_version": "1.5.0",
      "_view_name": "HTMLView",
      "description": "",
      "description_tooltip": null,
      "layout": "IPY_MODEL_ede314afa0cd459cb8ea70e07f845702",
      "placeholder": "​",
      "style": "IPY_MODEL_c5f82410e69d463fa5a28f4ecb913108",
      "value": " 12961872/12961872 [03:35&lt;00:00, 59110.04it/s]"
     }
    }
   }
  }
 },
 "nbformat": 4,
 "nbformat_minor": 0
}
